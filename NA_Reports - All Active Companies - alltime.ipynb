{
 "cells": [
  {
   "cell_type": "markdown",
   "metadata": {},
   "source": [
    "# Pull Queries from Postgres as a CSV file"
   ]
  },
  {
   "cell_type": "code",
   "execution_count": 1,
   "metadata": {},
   "outputs": [
    {
     "ename": "ImportError",
     "evalue": "cannot import name 'cust_list'",
     "output_type": "error",
     "traceback": [
      "\u001b[1;31m---------------------------------------------------------------------------\u001b[0m",
      "\u001b[1;31mImportError\u001b[0m                               Traceback (most recent call last)",
      "\u001b[1;32m<ipython-input-1-b8842758a7e0>\u001b[0m in \u001b[0;36m<module>\u001b[1;34m\u001b[0m\n\u001b[0;32m     11\u001b[0m \u001b[1;31m#importing database\u001b[0m\u001b[1;33m\u001b[0m\u001b[1;33m\u001b[0m\u001b[0m\n\u001b[0;32m     12\u001b[0m \u001b[1;32mfrom\u001b[0m \u001b[0mdatabase_config\u001b[0m \u001b[1;32mimport\u001b[0m \u001b[0mpostgres\u001b[0m \u001b[1;32mas\u001b[0m \u001b[0mcfg\u001b[0m\u001b[1;33m\u001b[0m\u001b[0m\n\u001b[1;32m---> 13\u001b[1;33m \u001b[1;32mfrom\u001b[0m \u001b[0mdatabase_config\u001b[0m \u001b[1;32mimport\u001b[0m \u001b[0mcust_list\u001b[0m\u001b[1;33m\u001b[0m\u001b[0m\n\u001b[0m",
      "\u001b[1;31mImportError\u001b[0m: cannot import name 'cust_list'"
     ]
    }
   ],
   "source": [
    "import pandas as pd\n",
    "\n",
    "#Get the previous date\n",
    "from datetime import date, timedelta, datetime\n",
    "\n",
    "#Interacting with Postgres SQL\n",
    "import psycopg2\n",
    "\n",
    "import time\n",
    "\n",
    "#importing database\n",
    "from database_config import postgres as cfg\n",
    "from database_config import cust_list"
   ]
  },
  {
   "cell_type": "markdown",
   "metadata": {},
   "source": [
    "# Establishing Connection to Postgres via psycopg2"
   ]
  },
  {
   "cell_type": "code",
   "execution_count": null,
   "metadata": {},
   "outputs": [],
   "source": [
    "#Setting up the connection to the PostgreSQL -feeddate\n",
    "conn = psycopg2.connect(database=cfg['database'],user=cfg['user'],password=cfg['password'],host=cfg['host'],port=\"5432\")\n",
    "\n",
    "#this works with the last days of the month as well. \n",
    "todays_date = str(datetime.today())[:10]"
   ]
  },
  {
   "cell_type": "code",
   "execution_count": null,
   "metadata": {},
   "outputs": [],
   "source": [
    "cust_list = pd.read_csv('./data/customer_name_list.csv',index_col='customer_id')"
   ]
  },
  {
   "cell_type": "code",
   "execution_count": 5,
   "metadata": {},
   "outputs": [],
   "source": [
    "important_customers = cust_list.to_dict(orient='dict')['customer_name']"
   ]
  },
  {
   "cell_type": "code",
   "execution_count": 6,
   "metadata": {},
   "outputs": [
    {
     "data": {
      "text/plain": [
       "{4: 'ldproducts',\n",
       " 6: 'urbandecay',\n",
       " 7: 'katesomerville',\n",
       " 8: 'neimanmarcus',\n",
       " 9: 'buildcom',\n",
       " 10: 'swanson',\n",
       " 11: 'crateandbarrel',\n",
       " 12: 'landofnod',\n",
       " 13: 'pier1',\n",
       " 14: 'toofaced',\n",
       " 15: 'wasserstrom',\n",
       " 16: 'cb2',\n",
       " 18: 'surlatable',\n",
       " 19: 'sallybeauty',\n",
       " 20: 'lancome',\n",
       " 21: 'menswearhouse',\n",
       " 23: 'staples',\n",
       " 24: 'hsn',\n",
       " 25: 'calphalon',\n",
       " 26: 'discountschoolsupply',\n",
       " 27: 'columbia',\n",
       " 29: 'sorel',\n",
       " 30: 'mountainhardwear',\n",
       " 32: 'eddiebauer',\n",
       " 33: 'johnvarvatos',\n",
       " 34: 'cabelas',\n",
       " 35: 'kerastase',\n",
       " 36: 'journeys',\n",
       " 37: 'restorationhardware',\n",
       " 38: 'rakuten',\n",
       " 39: 'josabank',\n",
       " 40: 'nordstrom',\n",
       " 45: 'freepeople',\n",
       " 49: 'francescas',\n",
       " 50: 'express',\n",
       " 51: 'stuller',\n",
       " 52: 'nike',\n",
       " 53: 'heb',\n",
       " 55: 'cvs',\n",
       " 56: 'westelm',\n",
       " 58: 'zappos',\n",
       " 59: 'sears',\n",
       " 60: 'watchdog',\n",
       " 62: 'homedepot',\n",
       " 63: 'vitaminshoppe',\n",
       " 64: 'tractorsupply',\n",
       " 65: 'zoro',\n",
       " 67: 'Home Depot - Cleaning',\n",
       " 68: 'esteelauder',\n",
       " 69: 'signet',\n",
       " 71: 'burlington',\n",
       " 72: 'officedepot',\n",
       " 74: 'roadrunner',\n",
       " 75: 'dickssportinggoods',\n",
       " 77: 'containerstore',\n",
       " 79: 'jcrew',\n",
       " 80: 'kay',\n",
       " 81: 'zales',\n",
       " 82: 'RSComponents',\n",
       " 83: 'swansonhealth'}"
      ]
     },
     "execution_count": 6,
     "metadata": {},
     "output_type": "execute_result"
    }
   ],
   "source": [
    "important_customers['']"
   ]
  },
  {
   "cell_type": "markdown",
   "metadata": {},
   "source": [
    "## Query"
   ]
  },
  {
   "cell_type": "code",
   "execution_count": 7,
   "metadata": {},
   "outputs": [],
   "source": [
    "company_na_reports = (  \n",
    "'''SELECT \n",
    "    ct.\"id\" AS curation_task_id, \n",
    "    ct.customer_id, \n",
    "    ct.resolution, \n",
    "    --- truncated the timestamp from the date for aggregation.\n",
    "    date_trunc('day',ct.started_at) as \"started_at\",\n",
    "    cpf.product_id,\n",
    "    cpf.\"name\" AS attribute_name, \n",
    "    cpf.\"Total_NAs\", \n",
    "    cpf.curation_tasks_count\n",
    "FROM \"curation_tasks\" AS ct\n",
    "\n",
    "INNER JOIN \n",
    "    (SELECT \n",
    "        cpf.curation_task_id,\n",
    "        cpf.customer_id,\n",
    "        cpf.product_id,\n",
    "        cpf.name, \n",
    "        SUM(CASE WHEN cpf.value = 'n/a' THEN 1 ELSE 0 END) as \"Total_NAs\",\n",
    "        COUNT(cpf.id) AS curation_tasks_count\n",
    "    FROM \"public\".\"curated_product_fields\"  as cpf\n",
    "    WHERE customer_id = {}\n",
    "    GROUP BY\n",
    "        cpf.curation_task_id,    \n",
    "        cpf.customer_id,\n",
    "        cpf.product_id,\n",
    "        cpf.name\n",
    "    ) AS cpf\n",
    "ON ct.id = cpf.curation_task_id\n",
    "\n",
    "--- specific resolution that are not taken care of my rules or bulk\n",
    "WHERE (ct.resolution IS NULL OR ct.resolution = 'misclassified') \n",
    "AND ct.customer_id = {}\n",
    "ORDER BY started_at;\n",
    "''')"
   ]
  },
  {
   "cell_type": "code",
   "execution_count": 8,
   "metadata": {},
   "outputs": [],
   "source": [
    "def single_customer(customer_id):\n",
    "    data = pd.read_sql(company_na_reports.format(customer_id,customer_id),conn)\n",
    "    if data.shape[0] != 0:\n",
    "        data['started_at'] = data['started_at'].dt.date\n",
    "        data['customer_name']= important_customers[customer_id]\n",
    "    return data"
   ]
  },
  {
   "cell_type": "code",
   "execution_count": 9,
   "metadata": {},
   "outputs": [],
   "source": [
    "data = single_customer(21)"
   ]
  },
  {
   "cell_type": "code",
   "execution_count": 10,
   "metadata": {},
   "outputs": [],
   "source": [
    "data.to_csv('menswearhouse.csv')"
   ]
  },
  {
   "cell_type": "code",
   "execution_count": 38,
   "metadata": {},
   "outputs": [
    {
     "name": "stdout",
     "output_type": "stream",
     "text": [
      "No data available in your time frame for Cust_id  4\n",
      "4 query and data clean completed\n",
      "No data available in your time frame for Cust_id  6\n",
      "6 query and data clean completed\n",
      "No data available in your time frame for Cust_id  7\n",
      "7 query and data clean completed\n",
      "No data available in your time frame for Cust_id  8\n",
      "8 query and data clean completed\n",
      "9 query and data clean completed\n",
      "No data available in your time frame for Cust_id  10\n",
      "10 query and data clean completed\n",
      "11 query and data clean completed\n",
      "No data available in your time frame for Cust_id  12\n",
      "12 query and data clean completed\n",
      "13 query and data clean completed\n",
      "No data available in your time frame for Cust_id  14\n",
      "14 query and data clean completed\n",
      "No data available in your time frame for Cust_id  15\n",
      "15 query and data clean completed\n",
      "16 query and data clean completed\n",
      "No data available in your time frame for Cust_id  18\n",
      "18 query and data clean completed\n",
      "No data available in your time frame for Cust_id  19\n",
      "19 query and data clean completed\n",
      "20 query and data clean completed\n",
      "21 query and data clean completed\n",
      "No data available in your time frame for Cust_id  23\n",
      "23 query and data clean completed\n",
      "No data available in your time frame for Cust_id  24\n",
      "24 query and data clean completed\n",
      "No data available in your time frame for Cust_id  25\n",
      "25 query and data clean completed\n",
      "26 query and data clean completed\n",
      "No data available in your time frame for Cust_id  27\n",
      "27 query and data clean completed\n",
      "No data available in your time frame for Cust_id  29\n",
      "29 query and data clean completed\n",
      "No data available in your time frame for Cust_id  30\n",
      "30 query and data clean completed\n",
      "32 query and data clean completed\n",
      "No data available in your time frame for Cust_id  33\n",
      "33 query and data clean completed\n",
      "No data available in your time frame for Cust_id  34\n",
      "34 query and data clean completed\n",
      "35 query and data clean completed\n",
      "No data available in your time frame for Cust_id  36\n",
      "36 query and data clean completed\n",
      "No data available in your time frame for Cust_id  37\n",
      "37 query and data clean completed\n",
      "No data available in your time frame for Cust_id  38\n",
      "38 query and data clean completed\n",
      "39 query and data clean completed\n",
      "No data available in your time frame for Cust_id  40\n",
      "40 query and data clean completed\n",
      "No data available in your time frame for Cust_id  45\n",
      "45 query and data clean completed\n",
      "49 query and data clean completed\n",
      "No data available in your time frame for Cust_id  50\n",
      "50 query and data clean completed\n",
      "No data available in your time frame for Cust_id  51\n",
      "51 query and data clean completed\n",
      "No data available in your time frame for Cust_id  52\n",
      "52 query and data clean completed\n",
      "No data available in your time frame for Cust_id  53\n",
      "53 query and data clean completed\n",
      "55 query and data clean completed\n",
      "No data available in your time frame for Cust_id  56\n",
      "56 query and data clean completed\n",
      "No data available in your time frame for Cust_id  58\n",
      "58 query and data clean completed\n",
      "No data available in your time frame for Cust_id  59\n",
      "59 query and data clean completed\n",
      "60 query and data clean completed\n",
      "No data available in your time frame for Cust_id  62\n",
      "62 query and data clean completed\n",
      "No data available in your time frame for Cust_id  63\n",
      "63 query and data clean completed\n",
      "64 query and data clean completed\n",
      "No data available in your time frame for Cust_id  65\n",
      "65 query and data clean completed\n",
      "No data available in your time frame for Cust_id  67\n",
      "67 query and data clean completed\n",
      "No data available in your time frame for Cust_id  68\n",
      "68 query and data clean completed\n",
      "No data available in your time frame for Cust_id  69\n",
      "69 query and data clean completed\n",
      "71 query and data clean completed\n",
      "No data available in your time frame for Cust_id  72\n",
      "72 query and data clean completed\n",
      "No data available in your time frame for Cust_id  74\n",
      "74 query and data clean completed\n",
      "75 query and data clean completed\n",
      "No data available in your time frame for Cust_id  77\n",
      "77 query and data clean completed\n",
      "No data available in your time frame for Cust_id  79\n",
      "79 query and data clean completed\n",
      "No data available in your time frame for Cust_id  80\n",
      "80 query and data clean completed\n",
      "No data available in your time frame for Cust_id  81\n",
      "81 query and data clean completed\n",
      "No data available in your time frame for Cust_id  82\n",
      "82 query and data clean completed\n",
      "No data available in your time frame for Cust_id  83\n",
      "83 query and data clean completed\n"
     ]
    }
   ],
   "source": [
    "master_data = pd.DataFrame()\n",
    "for cust in important_customers:\n",
    "    #Returning the data in pandas to export it as a CSV.\n",
    "    data = pd.read_sql(company_na_reports.format(cust,cust),conn)\n",
    "    if data.shape[0] != 0:\n",
    "        data['started_at'] = data['started_at'].dt.date\n",
    "        data['customer_name']= important_customers[cust]\n",
    "    else:\n",
    "        print('No data available in your time frame for Cust_id ',cust)\n",
    "        pass\n",
    "    master_data = master_data.append(data,sort=False)\n",
    "    print(cust, 'query and data clean completed')\n",
    "    time.sleep(15)"
   ]
  },
  {
   "cell_type": "code",
   "execution_count": 39,
   "metadata": {},
   "outputs": [
    {
     "data": {
      "text/plain": [
       "(337666, 9)"
      ]
     },
     "execution_count": 39,
     "metadata": {},
     "output_type": "execute_result"
    }
   ],
   "source": [
    "master_data.shape"
   ]
  },
  {
   "cell_type": "code",
   "execution_count": 40,
   "metadata": {},
   "outputs": [
    {
     "data": {
      "text/html": [
       "<div>\n",
       "<style scoped>\n",
       "    .dataframe tbody tr th:only-of-type {\n",
       "        vertical-align: middle;\n",
       "    }\n",
       "\n",
       "    .dataframe tbody tr th {\n",
       "        vertical-align: top;\n",
       "    }\n",
       "\n",
       "    .dataframe thead th {\n",
       "        text-align: right;\n",
       "    }\n",
       "</style>\n",
       "<table border=\"1\" class=\"dataframe\">\n",
       "  <thead>\n",
       "    <tr style=\"text-align: right;\">\n",
       "      <th></th>\n",
       "      <th>curation_task_id</th>\n",
       "      <th>customer_id</th>\n",
       "      <th>resolution</th>\n",
       "      <th>started_at</th>\n",
       "      <th>product_id</th>\n",
       "      <th>attribute_name</th>\n",
       "      <th>Total_NAs</th>\n",
       "      <th>curation_tasks_count</th>\n",
       "      <th>customer_name</th>\n",
       "    </tr>\n",
       "  </thead>\n",
       "  <tbody>\n",
       "    <tr>\n",
       "      <th>0</th>\n",
       "      <td>95157248</td>\n",
       "      <td>9</td>\n",
       "      <td>None</td>\n",
       "      <td>2018-10-18</td>\n",
       "      <td>247541549</td>\n",
       "      <td>range_hood_accessory_type</td>\n",
       "      <td>1</td>\n",
       "      <td>1</td>\n",
       "      <td>buildcom</td>\n",
       "    </tr>\n",
       "    <tr>\n",
       "      <th>0</th>\n",
       "      <td>98736130</td>\n",
       "      <td>11</td>\n",
       "      <td>None</td>\n",
       "      <td>2018-10-18</td>\n",
       "      <td>285933017</td>\n",
       "      <td>shape</td>\n",
       "      <td>0</td>\n",
       "      <td>1</td>\n",
       "      <td>crateandbarrel</td>\n",
       "    </tr>\n",
       "    <tr>\n",
       "      <th>1</th>\n",
       "      <td>98736205</td>\n",
       "      <td>11</td>\n",
       "      <td>None</td>\n",
       "      <td>2018-10-18</td>\n",
       "      <td>285933060</td>\n",
       "      <td>shape</td>\n",
       "      <td>0</td>\n",
       "      <td>1</td>\n",
       "      <td>crateandbarrel</td>\n",
       "    </tr>\n",
       "    <tr>\n",
       "      <th>2</th>\n",
       "      <td>96873410</td>\n",
       "      <td>11</td>\n",
       "      <td>None</td>\n",
       "      <td>2018-10-18</td>\n",
       "      <td>285173942</td>\n",
       "      <td>product_type</td>\n",
       "      <td>0</td>\n",
       "      <td>1</td>\n",
       "      <td>crateandbarrel</td>\n",
       "    </tr>\n",
       "    <tr>\n",
       "      <th>3</th>\n",
       "      <td>98736197</td>\n",
       "      <td>11</td>\n",
       "      <td>None</td>\n",
       "      <td>2018-10-19</td>\n",
       "      <td>285933060</td>\n",
       "      <td>width</td>\n",
       "      <td>0</td>\n",
       "      <td>1</td>\n",
       "      <td>crateandbarrel</td>\n",
       "    </tr>\n",
       "  </tbody>\n",
       "</table>\n",
       "</div>"
      ],
      "text/plain": [
       "  curation_task_id customer_id resolution  started_at product_id  \\\n",
       "0         95157248           9       None  2018-10-18  247541549   \n",
       "0         98736130          11       None  2018-10-18  285933017   \n",
       "1         98736205          11       None  2018-10-18  285933060   \n",
       "2         96873410          11       None  2018-10-18  285173942   \n",
       "3         98736197          11       None  2018-10-19  285933060   \n",
       "\n",
       "              attribute_name Total_NAs curation_tasks_count   customer_name  \n",
       "0  range_hood_accessory_type         1                    1        buildcom  \n",
       "0                      shape         0                    1  crateandbarrel  \n",
       "1                      shape         0                    1  crateandbarrel  \n",
       "2               product_type         0                    1  crateandbarrel  \n",
       "3                      width         0                    1  crateandbarrel  "
      ]
     },
     "execution_count": 40,
     "metadata": {},
     "output_type": "execute_result"
    }
   ],
   "source": [
    "master_data.head()"
   ]
  },
  {
   "cell_type": "code",
   "execution_count": 41,
   "metadata": {},
   "outputs": [],
   "source": [
    "if master_data.shape[0] != 0:\n",
    "    master_data.to_csv('./data/Weekly_NA_report.csv',index=False)"
   ]
  },
  {
   "cell_type": "markdown",
   "metadata": {},
   "source": [
    "# Querying n/a Product data"
   ]
  },
  {
   "cell_type": "code",
   "execution_count": 42,
   "metadata": {},
   "outputs": [],
   "source": [
    "query_product = (\n",
    "'''SELECT\n",
    "    p.customer_id,\n",
    "    pb.bucket_id,\n",
    "    b.name as bucket_name,\n",
    "    p.id as product_id, \n",
    "    p.name as product_name,\n",
    "    active, \n",
    "    p.external_id,\n",
    "    p.image_url\n",
    "FROM \"products\" AS p  \n",
    "\n",
    "INNER JOIN products_buckets as pb\n",
    "ON p.id = pb.product_id\n",
    "INNER JOIN buckets as b\n",
    "ON pb.bucket_id = b.id\n",
    "Where active = 't'\n",
    "AND p.customer_id  = {}\n",
    "ORDER BY p.id\n",
    "'''\n",
    ")"
   ]
  },
  {
   "cell_type": "code",
   "execution_count": 44,
   "metadata": {},
   "outputs": [
    {
     "name": "stdout",
     "output_type": "stream",
     "text": [
      "No data_prod available in your time frame for Cust_ID  4\n",
      "Cust_id  4 Product query and data clean completed\n",
      "Cust_id  6 Product query and data clean completed\n",
      "No data_prod available in your time frame for Cust_ID  7\n",
      "Cust_id  7 Product query and data clean completed\n",
      "No data_prod available in your time frame for Cust_ID  8\n",
      "Cust_id  8 Product query and data clean completed\n",
      "Cust_id  9 Product query and data clean completed\n",
      "No data_prod available in your time frame for Cust_ID  10\n",
      "Cust_id  10 Product query and data clean completed\n",
      "Cust_id  11 Product query and data clean completed\n",
      "Cust_id  12 Product query and data clean completed\n",
      "Cust_id  13 Product query and data clean completed\n",
      "No data_prod available in your time frame for Cust_ID  14\n",
      "Cust_id  14 Product query and data clean completed\n",
      "No data_prod available in your time frame for Cust_ID  15\n",
      "Cust_id  15 Product query and data clean completed\n",
      "Cust_id  16 Product query and data clean completed\n",
      "Cust_id  18 Product query and data clean completed\n",
      "Cust_id  19 Product query and data clean completed\n",
      "Cust_id  20 Product query and data clean completed\n",
      "Cust_id  21 Product query and data clean completed\n",
      "Cust_id  23 Product query and data clean completed\n",
      "Cust_id  24 Product query and data clean completed\n",
      "Cust_id  25 Product query and data clean completed\n",
      "Cust_id  26 Product query and data clean completed\n",
      "Cust_id  27 Product query and data clean completed\n",
      "Cust_id  29 Product query and data clean completed\n",
      "Cust_id  30 Product query and data clean completed\n",
      "Cust_id  32 Product query and data clean completed\n",
      "Cust_id  33 Product query and data clean completed\n",
      "Cust_id  34 Product query and data clean completed\n",
      "Cust_id  35 Product query and data clean completed\n",
      "Cust_id  36 Product query and data clean completed\n",
      "Cust_id  37 Product query and data clean completed\n",
      "Cust_id  38 Product query and data clean completed\n",
      "Cust_id  39 Product query and data clean completed\n",
      "Cust_id  40 Product query and data clean completed\n",
      "Cust_id  45 Product query and data clean completed\n",
      "Cust_id  49 Product query and data clean completed\n",
      "Cust_id  50 Product query and data clean completed\n",
      "No data_prod available in your time frame for Cust_ID  51\n",
      "Cust_id  51 Product query and data clean completed\n",
      "Cust_id  52 Product query and data clean completed\n",
      "Cust_id  53 Product query and data clean completed\n",
      "Cust_id  55 Product query and data clean completed\n",
      "Cust_id  56 Product query and data clean completed\n",
      "Cust_id  58 Product query and data clean completed\n",
      "No data_prod available in your time frame for Cust_ID  59\n",
      "Cust_id  59 Product query and data clean completed\n",
      "Cust_id  60 Product query and data clean completed\n",
      "Cust_id  62 Product query and data clean completed\n",
      "Cust_id  63 Product query and data clean completed\n",
      "Cust_id  64 Product query and data clean completed\n",
      "Cust_id  65 Product query and data clean completed\n",
      "Cust_id  67 Product query and data clean completed\n",
      "No data_prod available in your time frame for Cust_ID  68\n",
      "Cust_id  68 Product query and data clean completed\n",
      "Cust_id  69 Product query and data clean completed\n",
      "Cust_id  71 Product query and data clean completed\n",
      "No data_prod available in your time frame for Cust_ID  72\n",
      "Cust_id  72 Product query and data clean completed\n",
      "Cust_id  74 Product query and data clean completed\n",
      "Cust_id  75 Product query and data clean completed\n",
      "Cust_id  77 Product query and data clean completed\n",
      "No data_prod available in your time frame for Cust_ID  79\n",
      "Cust_id  79 Product query and data clean completed\n",
      "No data_prod available in your time frame for Cust_ID  80\n",
      "Cust_id  80 Product query and data clean completed\n",
      "No data_prod available in your time frame for Cust_ID  81\n",
      "Cust_id  81 Product query and data clean completed\n",
      "No data_prod available in your time frame for Cust_ID  82\n",
      "Cust_id  82 Product query and data clean completed\n",
      "No data_prod available in your time frame for Cust_ID  83\n",
      "Cust_id  83 Product query and data clean completed\n"
     ]
    }
   ],
   "source": [
    "master_data_prod = pd.DataFrame()\n",
    "for cust in important_customers:\n",
    "    #Returning the data in pandas to export it as a CSV.\n",
    "    data_prod = pd.read_sql(query_product.format(cust),conn)\n",
    "    if data_prod.shape[0] == 0:\n",
    "        print('No data_prod available in your time frame for Cust_ID ',cust)\n",
    "    else:\n",
    "        pass\n",
    "    master_data_prod = master_data_prod.append(data_prod,sort=False)\n",
    "    print('Cust_id ',cust, 'Product query and data clean completed')\n",
    "    time.sleep(10)"
   ]
  },
  {
   "cell_type": "code",
   "execution_count": 45,
   "metadata": {},
   "outputs": [],
   "source": [
    "if master_data_prod.shape[0] != 0:\n",
    "    master_data_prod.to_csv('./data/Weekly_products.csv',index=False)"
   ]
  },
  {
   "cell_type": "code",
   "execution_count": 46,
   "metadata": {},
   "outputs": [
    {
     "data": {
      "text/plain": [
       "(337666, 1014679)"
      ]
     },
     "execution_count": 46,
     "metadata": {},
     "output_type": "execute_result"
    }
   ],
   "source": [
    "master_data.shape[0],master_data_prod.shape[0]"
   ]
  },
  {
   "cell_type": "raw",
   "metadata": {},
   "source": [
    "if (master_data.shape[0] > 0) and (master_data_prod.shape[0] > 0):\n",
    "    with open('G:/My Drive/Projects/NA_Reports/NA_Report_log.txt','r+',encoding='utf-8') as f:\n",
    "        previous_contents =f.read()\n",
    "        f.seek(0,0)\n",
    "        f.write(todays_date+' data update has been confirmed.\\n')\n",
    "        f.write(previous_contents)\n",
    "else:\n",
    "    with open('G:/My Drive/Projects/NA_Reports/NA_Report_log.txt','r+',encoding='utf-8') as f:\n",
    "        previous_contents =f.read()\n",
    "        f.seek(0,0)\n",
    "        f.write(todays_date+' an error has occured and no data has been updated.\\n')\n",
    "        f.write(previous_contents)"
   ]
  }
 ],
 "metadata": {
  "kernelspec": {
   "display_name": "Python 3",
   "language": "python",
   "name": "python3"
  },
  "language_info": {
   "codemirror_mode": {
    "name": "ipython",
    "version": 3
   },
   "file_extension": ".py",
   "mimetype": "text/x-python",
   "name": "python",
   "nbconvert_exporter": "python",
   "pygments_lexer": "ipython3",
   "version": "3.5.5"
  }
 },
 "nbformat": 4,
 "nbformat_minor": 2
}
