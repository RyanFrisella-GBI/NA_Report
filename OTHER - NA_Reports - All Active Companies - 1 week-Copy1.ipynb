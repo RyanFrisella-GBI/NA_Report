{
 "cells": [
  {
   "cell_type": "markdown",
   "metadata": {},
   "source": [
    "# Pull Queries from Postgres as a CSV file"
   ]
  },
  {
   "cell_type": "code",
   "execution_count": 6,
   "metadata": {},
   "outputs": [],
   "source": [
    "import pandas as pd\n",
    "\n",
    "#Get the previous date\n",
    "from datetime import date, timedelta, datetime\n",
    "\n",
    "#Interacting with Postgres SQL\n",
    "import psycopg2\n",
    "\n",
    "import time\n",
    "\n",
    "#importing database\n",
    "from database_config import postgres as cfg\n",
    "from database_config import cust_list"
   ]
  },
  {
   "cell_type": "markdown",
   "metadata": {},
   "source": [
    "# Establishing Connection to Postgres via psycopg2"
   ]
  },
  {
   "cell_type": "code",
   "execution_count": 7,
   "metadata": {},
   "outputs": [],
   "source": [
    "#Setting up the connection to the PostgreSQL -feeddate\n",
    "conn = psycopg2.connect(database=cfg['database'],user=cfg['user'],password=cfg['password'],host=cfg['host'],port=\"5432\")\n",
    "\n",
    "#this works with the last days of the month as well. \n",
    "todays_date = str(datetime.today())[:10]"
   ]
  },
  {
   "cell_type": "code",
   "execution_count": 8,
   "metadata": {},
   "outputs": [],
   "source": [
    "prod_vals = (\"\"\"SELECT \n",
    "    cpf.product_id, \n",
    "    cpf.name as attribute_name, \n",
    "    cpf.value,\n",
    "    p.name, \n",
    "    p.description\n",
    "FROM \"public\".\"curated_product_fields\" as cpf\n",
    "INNER JOIN products as p\n",
    "ON cpf.product_id = p.id\n",
    "WHERE p.active = 't'\n",
    "LIMIT 1000000;\"\"\")"
   ]
  },
  {
   "cell_type": "code",
   "execution_count": 9,
   "metadata": {},
   "outputs": [],
   "source": [
    "prod_vals = pd.read_sql(prod_vals,conn)"
   ]
  },
  {
   "cell_type": "code",
   "execution_count": 10,
   "metadata": {},
   "outputs": [],
   "source": [
    "prod_vals.to_csv('./data/product_vaules.csv')"
   ]
  },
  {
   "cell_type": "code",
   "execution_count": 3,
   "metadata": {},
   "outputs": [],
   "source": [
    "cust_list = pd.read_csv('./data/customer_name_list.csv',index_col='customer_id')"
   ]
  },
  {
   "cell_type": "code",
   "execution_count": 4,
   "metadata": {},
   "outputs": [],
   "source": [
    "important_customers = cust_list.to_dict(orient='dict')['customer_name']"
   ]
  },
  {
   "cell_type": "markdown",
   "metadata": {},
   "source": [
    "## Query"
   ]
  },
  {
   "cell_type": "code",
   "execution_count": 5,
   "metadata": {},
   "outputs": [],
   "source": [
    "company_na_reports = (  \n",
    "'''SELECT \n",
    "    ct.\"id\" AS curation_task_id, \n",
    "    ct.customer_id, \n",
    "    ct.resolution, \n",
    "    ct.started_at,\n",
    "    cpf.product_id,\n",
    "    cpf.\"name\" AS attribute_name, \n",
    "    cpf.\"Total_NAs\", \n",
    "    cpf.curation_tasks_count\n",
    "FROM \"curation_tasks\" AS ct\n",
    "\n",
    "INNER JOIN \n",
    "    (SELECT \n",
    "        cpf.curation_task_id,\n",
    "        cpf.customer_id,\n",
    "        cpf.product_id,\n",
    "        cpf.name, \n",
    "        SUM(CASE WHEN cpf.value = 'n/a' THEN 1 ELSE 0 END) as \"Total_NAs\",\n",
    "        COUNT(cpf.id) AS curation_tasks_count\n",
    "    FROM \"public\".\"curated_product_fields\"  as cpf\n",
    "    WHERE customer_id = {}\n",
    "    GROUP BY\n",
    "        cpf.curation_task_id,    \n",
    "        cpf.customer_id,\n",
    "        cpf.product_id,\n",
    "        cpf.name\n",
    "    ) AS cpf\n",
    "ON ct.id = cpf.curation_task_id\n",
    "\n",
    "WHERE started_at >= CURRENT_TIMESTAMP - INTERVAL '1 week'\n",
    "--- specific resolution that are not taken care of my rules or bulk\n",
    "AND (ct.resolution IS NULL OR ct.resolution = 'misclassified') \n",
    "AND ct.customer_id = {}\n",
    "ORDER BY started_at;\n",
    "''')"
   ]
  },
  {
   "cell_type": "code",
   "execution_count": 6,
   "metadata": {},
   "outputs": [
    {
     "name": "stdout",
     "output_type": "stream",
     "text": [
      "No data available in your time frame for Cust_id  4\n",
      "4 query and data clean completed\n",
      "No data available in your time frame for Cust_id  6\n",
      "6 query and data clean completed\n",
      "No data available in your time frame for Cust_id  7\n",
      "7 query and data clean completed\n",
      "No data available in your time frame for Cust_id  8\n",
      "8 query and data clean completed\n",
      "No data available in your time frame for Cust_id  9\n",
      "9 query and data clean completed\n",
      "No data available in your time frame for Cust_id  10\n",
      "10 query and data clean completed\n"
     ]
    },
    {
     "ename": "KeyboardInterrupt",
     "evalue": "",
     "output_type": "error",
     "traceback": [
      "\u001b[1;31m---------------------------------------------------------------------------\u001b[0m",
      "\u001b[1;31mKeyboardInterrupt\u001b[0m                         Traceback (most recent call last)",
      "\u001b[1;32m<ipython-input-6-9e38892ffe7e>\u001b[0m in \u001b[0;36m<module>\u001b[1;34m()\u001b[0m\n\u001b[0;32m     11\u001b[0m     \u001b[0mmaster_data\u001b[0m \u001b[1;33m=\u001b[0m \u001b[0mmaster_data\u001b[0m\u001b[1;33m.\u001b[0m\u001b[0mappend\u001b[0m\u001b[1;33m(\u001b[0m\u001b[0mdata\u001b[0m\u001b[1;33m,\u001b[0m\u001b[0msort\u001b[0m\u001b[1;33m=\u001b[0m\u001b[1;32mFalse\u001b[0m\u001b[1;33m)\u001b[0m\u001b[1;33m\u001b[0m\u001b[0m\n\u001b[0;32m     12\u001b[0m     \u001b[0mprint\u001b[0m\u001b[1;33m(\u001b[0m\u001b[0mcust\u001b[0m\u001b[1;33m,\u001b[0m \u001b[1;34m'query and data clean completed'\u001b[0m\u001b[1;33m)\u001b[0m\u001b[1;33m\u001b[0m\u001b[0m\n\u001b[1;32m---> 13\u001b[1;33m     \u001b[0mtime\u001b[0m\u001b[1;33m.\u001b[0m\u001b[0msleep\u001b[0m\u001b[1;33m(\u001b[0m\u001b[1;36m15\u001b[0m\u001b[1;33m)\u001b[0m\u001b[1;33m\u001b[0m\u001b[0m\n\u001b[0m",
      "\u001b[1;31mKeyboardInterrupt\u001b[0m: "
     ]
    }
   ],
   "source": [
    "master_data = pd.DataFrame()\n",
    "for cust in important_customers:\n",
    "    #Returning the data in pandas to export it as a CSV.\n",
    "    data = pd.read_sql(company_na_reports.format(cust,cust),conn)\n",
    "    if data.shape[0] != 0:\n",
    "        data['started_at'] = data['started_at'].dt.date\n",
    "        data['customer_name']= important_customers[cust]\n",
    "    else:\n",
    "        print('No data available in your time frame for Cust_id ',cust)\n",
    "        pass\n",
    "    master_data = master_data.append(data,sort=False)\n",
    "    print(cust, 'query and data clean completed')\n",
    "    time.sleep(15)"
   ]
  },
  {
   "cell_type": "code",
   "execution_count": null,
   "metadata": {},
   "outputs": [],
   "source": [
    "master_data.shape"
   ]
  },
  {
   "cell_type": "code",
   "execution_count": null,
   "metadata": {},
   "outputs": [],
   "source": [
    "master_data.head()"
   ]
  },
  {
   "cell_type": "code",
   "execution_count": null,
   "metadata": {},
   "outputs": [],
   "source": [
    "if master_data.shape[0] != 0:\n",
    "    master_data.to_csv('./data/Weekly_NA_report.csv',index=False)"
   ]
  },
  {
   "cell_type": "markdown",
   "metadata": {},
   "source": [
    "# Querying n/a Product data"
   ]
  },
  {
   "cell_type": "code",
   "execution_count": null,
   "metadata": {},
   "outputs": [],
   "source": [
    "query_product = (\n",
    "'''SELECT\n",
    "    p.customer_id,\n",
    "    pb.bucket_id,\n",
    "    b.name as bucket_name,\n",
    "    p.id as product_id, \n",
    "    p.name as product_name,\n",
    "    active, \n",
    "    p.external_id,\n",
    "    p.image_url,\n",
    "    p.family_id\n",
    "FROM \"products\" AS p  \n",
    "\n",
    "INNER JOIN products_buckets as pb\n",
    "ON p.id = pb.product_id\n",
    "INNER JOIN buckets as b\n",
    "ON pb.bucket_id = b.id\n",
    "Where active = 't'\n",
    "AND p.customer_id  = {}\n",
    "ORDER BY p.id\n",
    "'''\n",
    ")"
   ]
  },
  {
   "cell_type": "code",
   "execution_count": null,
   "metadata": {},
   "outputs": [],
   "source": [
    "master_data_prod = pd.DataFrame()\n",
    "for cust in important_customers:\n",
    "    #Returning the data in pandas to export it as a CSV.\n",
    "    data_prod = pd.read_sql(query_product.format(cust),conn)\n",
    "    if data_prod.shape[0] == 0:\n",
    "        print('No data_prod available in your time frame for Cust_ID ',cust)\n",
    "    else:\n",
    "        pass\n",
    "    master_data_prod = master_data_prod.append(data_prod,sort=False)\n",
    "    print('Cust_id ',cust, 'Product query and data clean completed')\n",
    "    time.sleep(10)"
   ]
  },
  {
   "cell_type": "code",
   "execution_count": null,
   "metadata": {},
   "outputs": [],
   "source": [
    "if master_data_prod.shape[0] != 0:\n",
    "    master_data_prod.to_csv('./data/Weekly_products.csv',index=False)"
   ]
  },
  {
   "cell_type": "code",
   "execution_count": 46,
   "metadata": {},
   "outputs": [
    {
     "data": {
      "text/plain": [
       "(337666, 1014679)"
      ]
     },
     "execution_count": 46,
     "metadata": {},
     "output_type": "execute_result"
    }
   ],
   "source": [
    "master_data.shape[0],master_data_prod.shape[0]"
   ]
  },
  {
   "cell_type": "code",
   "execution_count": 31,
   "metadata": {},
   "outputs": [],
   "source": [
    "if (master_data.shape[0] > 0) and (master_data_prod.shape[0] > 0):\n",
    "    with open('G:/My Drive/Projects/NA_Reports/NA_Report_log.txt','r+',encoding='utf-8') as f:\n",
    "        previous_contents =f.read()\n",
    "        f.seek(0,0)\n",
    "        f.write(todays_date+' data update has been confirmed.\\n')\n",
    "        f.write(previous_contents)\n",
    "else:\n",
    "    with open('G:/My Drive/Projects/NA_Reports/NA_Report_log.txt','r+',encoding='utf-8') as f:\n",
    "        previous_contents =f.read()\n",
    "        f.seek(0,0)\n",
    "        f.write(todays_date+' an error has occured and no data has been updated.\\n')\n",
    "        f.write(previous_contents)"
   ]
  }
 ],
 "metadata": {
  "kernelspec": {
   "display_name": "Python 3",
   "language": "python",
   "name": "python3"
  },
  "language_info": {
   "codemirror_mode": {
    "name": "ipython",
    "version": 3
   },
   "file_extension": ".py",
   "mimetype": "text/x-python",
   "name": "python",
   "nbconvert_exporter": "python",
   "pygments_lexer": "ipython3",
   "version": "3.5.5"
  }
 },
 "nbformat": 4,
 "nbformat_minor": 2
}
