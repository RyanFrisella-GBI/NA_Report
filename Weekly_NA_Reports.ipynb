{
 "cells": [
  {
   "cell_type": "markdown",
   "metadata": {},
   "source": [
    "# Pull Queries from Postgres as a CSV file"
   ]
  },
  {
   "cell_type": "code",
   "execution_count": 1,
   "metadata": {},
   "outputs": [],
   "source": [
    "import pandas as pd\n",
    "\n",
    "#Get the previous date\n",
    "from datetime import date, timedelta, datetime\n",
    "\n",
    "#Interacting with Postgres SQL\n",
    "import psycopg2\n",
    "\n",
    "#importing database\n",
    "from database_config import postgres as cfg\n",
    "from database_config import cust_list\n",
    "\n",
    "import time"
   ]
  },
  {
   "cell_type": "markdown",
   "metadata": {},
   "source": [
    "# Establishing Connection to Postgres via psycopg2"
   ]
  },
  {
   "cell_type": "code",
   "execution_count": 2,
   "metadata": {},
   "outputs": [],
   "source": [
    "#Setting up the connection to the PostgreSQL -feeddate\n",
    "conn = psycopg2.connect(database=cfg['database'],user=cfg['user'],password=cfg['password'],host=cfg['host'],port=\"5432\")"
   ]
  },
  {
   "cell_type": "code",
   "execution_count": 3,
   "metadata": {},
   "outputs": [],
   "source": [
    "#using datetime to create the date and subtracting 1 day\n",
    "#this works with the last days of the month as well. \n",
    "todays_date = str(datetime.today())[:10]"
   ]
  },
  {
   "cell_type": "code",
   "execution_count": 4,
   "metadata": {},
   "outputs": [],
   "source": [
    "important_customers = cust_list"
   ]
  },
  {
   "cell_type": "markdown",
   "metadata": {},
   "source": [
    "## Query"
   ]
  },
  {
   "cell_type": "code",
   "execution_count": 14,
   "metadata": {},
   "outputs": [],
   "source": [
    "company_na_reports = (  \n",
    "'''SELECT \n",
    "    ct.\"id\" AS curation_task_id, \n",
    "    ct.customer_id, \n",
    "    ct.resolution, \n",
    "    --- truncated the timestamp from the date for aggregation.\n",
    "    date_trunc('day',ct.started_at) as \"started_at\",\n",
    "    cpf.product_id,\n",
    "    cpf.\"name\" AS attribute_name, \n",
    "    cpf.\"Total_NAs\", \n",
    "    cpf.curation_tasks_count\n",
    "FROM \"curation_tasks\" AS ct\n",
    "\n",
    "INNER JOIN \n",
    "    (SELECT \n",
    "        cpf.curation_task_id,\n",
    "        cpf.customer_id,\n",
    "        cpf.product_id,\n",
    "        cpf.name, \n",
    "        SUM(CASE WHEN cpf.value = 'n/a' THEN 1 ELSE 0 END) as \"Total_NAs\",\n",
    "        COUNT(cpf.id) AS curation_tasks_count\n",
    "    FROM \"public\".\"curated_product_fields\"  as cpf\n",
    "    WHERE customer_id = {}\n",
    "    GROUP BY\n",
    "        cpf.curation_task_id,    \n",
    "        cpf.customer_id,\n",
    "        cpf.product_id,\\\n",
    "        cpf.name\n",
    "    ) AS cpf\n",
    "ON ct.id = cpf.curation_task_id\n",
    "\n",
    "WHERE started_at >= CURRENT_TIMESTAMP - INTERVAL '14 days'\n",
    "--- specific resolution that are not taken care of my rules or bulk\n",
    "AND (ct.resolution IS NULL OR ct.resolution = 'misclassified') \n",
    "AND ct.customer_id = {}\n",
    "ORDER BY started_at;\n",
    "''')"
   ]
  },
  {
   "cell_type": "raw",
   "metadata": {},
   "source": [
    "company_na_reports = (  \n",
    "'''SELECT \n",
    "        -- cpf.curation_task_id,\n",
    "        cpf.customer_id,\n",
    "        -- cpf.product_id,\n",
    "        cpf.name, \n",
    "        SUM(CASE WHEN cpf.value = 'n/a' THEN 1 ELSE 0 END) as \"Total_NAs\",\n",
    "        COUNT(cpf.id) AS curation_tasks_count\n",
    "    FROM \"public\".\"curated_product_fields\"  as cpf\n",
    "    WHERE customer_id = 75\n",
    "    GROUP BY\n",
    "         -- cpf.curation_task_id,    \n",
    "        cpf.customer_id,\n",
    "        -- cpf.product_id,\n",
    "        cpf.name\n",
    "''')"
   ]
  },
  {
   "cell_type": "raw",
   "metadata": {},
   "source": [
    "quest = (  \n",
    "'''\n",
    "SELECT \n",
    "    ct.\"id\" AS curation_task_id, \n",
    "    ct.customer_id, \n",
    "    ct.resolution, \n",
    "    --- truncated the timestamp from the date for aggregation.\n",
    "    date_trunc('day',ct.started_at) as \"started_at\",\n",
    "    cpf.product_id,\n",
    "    cpf.\"name\" AS attribute_name, \n",
    "    cpf.\"Total_NAs\", \n",
    "    cpf.curation_tasks_count\n",
    "FROM \"curation_tasks\" AS ct\n",
    "\n",
    "INNER JOIN \n",
    "    (SELECT \n",
    "        cpf.curation_task_id,\n",
    "        cpf.customer_id,\n",
    "        cpf.product_id,\n",
    "        cpf.name, \n",
    "        SUM(CASE WHEN cpf.value = 'n/a' THEN 1 ELSE 0 END) as \"Total_NAs\",\n",
    "        COUNT(cpf.id) AS curation_tasks_count\n",
    "    FROM \"public\".\"curated_product_fields\"  as cpf\n",
    "    WHERE customer_id = {}\n",
    "    GROUP BY\n",
    "        cpf.curation_task_id,    \n",
    "        cpf.customer_id,\n",
    "        cpf.product_id,\n",
    "        cpf.name\n",
    "    ) AS cpf\n",
    "ON ct.product_id = cpf.product_id\n",
    "\n",
    "WHERE started_at >= CURRENT_TIMESTAMP - INTERVAL '1 month'\n",
    "--- specific resolution that are not taken care of my rules or bulk\n",
    "---AND (ct.resolution IS NULL OR ct.resolution = 'misclassified') \n",
    "AND ct.customer_id = {}\n",
    "ORDER BY started_at;\n",
    "''')"
   ]
  },
  {
   "cell_type": "code",
   "execution_count": 15,
   "metadata": {},
   "outputs": [
    {
     "name": "stdout",
     "output_type": "stream",
     "text": [
      "CVS query and data clean completed\n",
      "Dicks Sporting Goods query and data clean completed\n",
      "No data available in your time frame for Container Store\n",
      "Container Store query and data clean completed\n",
      "No data available in your time frame for Paiges\n",
      "Paiges query and data clean completed\n",
      "Burlington query and data clean completed\n"
     ]
    }
   ],
   "source": [
    "master_data = pd.DataFrame()\n",
    "for cust in important_customers:\n",
    "    #Returning the data in pandas to export it as a CSV.\n",
    "    data = pd.read_sql(company_na_reports.format(cust,cust),conn)\n",
    "    if data.shape[0] != 0:\n",
    "        data['started_at'] = data['started_at'].dt.date\n",
    "        data['customer_name']= important_customers[cust]\n",
    "    else:\n",
    "        print('No data available in your time frame for',important_customers[cust])\n",
    "        pass\n",
    "    master_data = master_data.append(data,sort=False)\n",
    "    print(important_customers[cust], 'query and data clean completed')\n",
    "    time.sleep(15)"
   ]
  },
  {
   "cell_type": "code",
   "execution_count": 16,
   "metadata": {},
   "outputs": [
    {
     "data": {
      "text/plain": [
       "(218812, 9)"
      ]
     },
     "execution_count": 16,
     "metadata": {},
     "output_type": "execute_result"
    }
   ],
   "source": [
    "master_data.shape"
   ]
  },
  {
   "cell_type": "code",
   "execution_count": 17,
   "metadata": {},
   "outputs": [
    {
     "data": {
      "text/html": [
       "<div>\n",
       "<style scoped>\n",
       "    .dataframe tbody tr th:only-of-type {\n",
       "        vertical-align: middle;\n",
       "    }\n",
       "\n",
       "    .dataframe tbody tr th {\n",
       "        vertical-align: top;\n",
       "    }\n",
       "\n",
       "    .dataframe thead th {\n",
       "        text-align: right;\n",
       "    }\n",
       "</style>\n",
       "<table border=\"1\" class=\"dataframe\">\n",
       "  <thead>\n",
       "    <tr style=\"text-align: right;\">\n",
       "      <th></th>\n",
       "      <th>curation_task_id</th>\n",
       "      <th>customer_id</th>\n",
       "      <th>resolution</th>\n",
       "      <th>started_at</th>\n",
       "      <th>product_id</th>\n",
       "      <th>attribute_name</th>\n",
       "      <th>Total_NAs</th>\n",
       "      <th>curation_tasks_count</th>\n",
       "      <th>customer_name</th>\n",
       "    </tr>\n",
       "  </thead>\n",
       "  <tbody>\n",
       "    <tr>\n",
       "      <th>0</th>\n",
       "      <td>82296338</td>\n",
       "      <td>55</td>\n",
       "      <td>None</td>\n",
       "      <td>2018-10-09</td>\n",
       "      <td>225605278</td>\n",
       "      <td>color</td>\n",
       "      <td>0</td>\n",
       "      <td>1</td>\n",
       "      <td>CVS</td>\n",
       "    </tr>\n",
       "    <tr>\n",
       "      <th>1</th>\n",
       "      <td>82296337</td>\n",
       "      <td>55</td>\n",
       "      <td>None</td>\n",
       "      <td>2018-10-09</td>\n",
       "      <td>225603309</td>\n",
       "      <td>color</td>\n",
       "      <td>0</td>\n",
       "      <td>1</td>\n",
       "      <td>CVS</td>\n",
       "    </tr>\n",
       "    <tr>\n",
       "      <th>2</th>\n",
       "      <td>82296335</td>\n",
       "      <td>55</td>\n",
       "      <td>None</td>\n",
       "      <td>2018-10-09</td>\n",
       "      <td>225604748</td>\n",
       "      <td>color</td>\n",
       "      <td>0</td>\n",
       "      <td>1</td>\n",
       "      <td>CVS</td>\n",
       "    </tr>\n",
       "    <tr>\n",
       "      <th>3</th>\n",
       "      <td>82296334</td>\n",
       "      <td>55</td>\n",
       "      <td>None</td>\n",
       "      <td>2018-10-09</td>\n",
       "      <td>40684651</td>\n",
       "      <td>color</td>\n",
       "      <td>0</td>\n",
       "      <td>1</td>\n",
       "      <td>CVS</td>\n",
       "    </tr>\n",
       "    <tr>\n",
       "      <th>4</th>\n",
       "      <td>82296333</td>\n",
       "      <td>55</td>\n",
       "      <td>None</td>\n",
       "      <td>2018-10-09</td>\n",
       "      <td>40689265</td>\n",
       "      <td>color</td>\n",
       "      <td>0</td>\n",
       "      <td>1</td>\n",
       "      <td>CVS</td>\n",
       "    </tr>\n",
       "  </tbody>\n",
       "</table>\n",
       "</div>"
      ],
      "text/plain": [
       "  curation_task_id customer_id resolution  started_at product_id  \\\n",
       "0         82296338          55       None  2018-10-09  225605278   \n",
       "1         82296337          55       None  2018-10-09  225603309   \n",
       "2         82296335          55       None  2018-10-09  225604748   \n",
       "3         82296334          55       None  2018-10-09   40684651   \n",
       "4         82296333          55       None  2018-10-09   40689265   \n",
       "\n",
       "  attribute_name Total_NAs curation_tasks_count customer_name  \n",
       "0          color         0                    1           CVS  \n",
       "1          color         0                    1           CVS  \n",
       "2          color         0                    1           CVS  \n",
       "3          color         0                    1           CVS  \n",
       "4          color         0                    1           CVS  "
      ]
     },
     "execution_count": 17,
     "metadata": {},
     "output_type": "execute_result"
    }
   ],
   "source": [
    "master_data.head()"
   ]
  },
  {
   "cell_type": "code",
   "execution_count": 18,
   "metadata": {},
   "outputs": [],
   "source": [
    "if master_data.shape[0] != 0:\n",
    "    master_data.to_csv('./data/NA_report.csv',index=False)"
   ]
  },
  {
   "cell_type": "markdown",
   "metadata": {},
   "source": [
    "#### Export query to CSV. \n",
    "A `data` folder will need to be created if looking to transfer this file. This can be changed to be more dynamic. "
   ]
  },
  {
   "cell_type": "code",
   "execution_count": 74,
   "metadata": {},
   "outputs": [],
   "source": [
    "query = (\n",
    "\"\"\"SELECT    \n",
    "    ct.id as curation_tasks_id,\n",
    "    ct.customer_id,\n",
    "    ct.product_id,\n",
    "    cpf.name, \n",
    "    cpf.value as attribute_values,\n",
    "    ct.resolution,\n",
    "    ct.type,  \n",
    "    ct.started_at\n",
    "FROM curation_tasks as ct\n",
    "\n",
    "INNER JOIN curated_product_fields AS cpf\n",
    "ON ct.id = cpf.curation_task_id\n",
    "\n",
    "WHERE started_at >= CURRENT_TIMESTAMP - INTERVAL '3 month'\n",
    "ORDER BY started_at DESC\n",
    "\"\"\")"
   ]
  },
  {
   "cell_type": "code",
   "execution_count": 75,
   "metadata": {},
   "outputs": [],
   "source": [
    "na_values = pd.read_sql(query,conn)"
   ]
  },
  {
   "cell_type": "code",
   "execution_count": 76,
   "metadata": {},
   "outputs": [
    {
     "data": {
      "text/plain": [
       "(968081, 8)"
      ]
     },
     "execution_count": 76,
     "metadata": {},
     "output_type": "execute_result"
    }
   ],
   "source": [
    "na_values.shape"
   ]
  },
  {
   "cell_type": "code",
   "execution_count": 77,
   "metadata": {},
   "outputs": [],
   "source": [
    "na_values['is_na'] = na_values['attribute_values'] == 'n/a'"
   ]
  },
  {
   "cell_type": "code",
   "execution_count": 78,
   "metadata": {},
   "outputs": [],
   "source": [
    "na_values['is_na']= na_values['is_na']*1"
   ]
  },
  {
   "cell_type": "code",
   "execution_count": 79,
   "metadata": {},
   "outputs": [],
   "source": [
    "na_values.to_csv(\"./data/na_values.csv\")"
   ]
  },
  {
   "cell_type": "markdown",
   "metadata": {},
   "source": [
    "# Querying n/a Product data"
   ]
  },
  {
   "cell_type": "code",
   "execution_count": 9,
   "metadata": {},
   "outputs": [],
   "source": [
    "query_product = (\n",
    "'''SELECT\n",
    "    p.customer_id,\n",
    "    pb.bucket_id,\n",
    "    b.name as bucket_name,\n",
    "    p.id as product_id, \n",
    "    p.name as product_name,\n",
    "    active, \n",
    "    p.external_id,\n",
    "    p.image_url\n",
    "FROM \"products\" AS p  \n",
    "\n",
    "INNER JOIN products_buckets as pb\n",
    "ON p.id = pb.product_id\n",
    "---------------change to strategy buckets\n",
    "INNER JOIN buckets as b\n",
    "ON pb.bucket_id = b.id\n",
    "Where active = 't'\n",
    "AND p.customer_id  = {}\n",
    "ORDER BY p.id\n",
    "'''\n",
    ")"
   ]
  },
  {
   "cell_type": "code",
   "execution_count": 10,
   "metadata": {},
   "outputs": [
    {
     "name": "stdout",
     "output_type": "stream",
     "text": [
      "CVS query and data clean completed\n",
      "Dicks Sporting Goods query and data clean completed\n",
      "Container Store query and data clean completed\n",
      "Paiges query and data clean completed\n",
      "Burlington query and data clean completed\n"
     ]
    }
   ],
   "source": [
    "master_data_prod = pd.DataFrame()\n",
    "for cust in important_customers:\n",
    "    #Returning the data in pandas to export it as a CSV.\n",
    "    data_prod = pd.read_sql(query_product.format(cust),conn)\n",
    "    if data_prod.shape[0] == 0:\n",
    "        print('No data_prod available in your time frame for',important_customers[cust])\n",
    "    else:\n",
    "        pass\n",
    "    master_data_prod = master_data_prod.append(data_prod,sort=False)\n",
    "    print(important_customers[cust], 'query and data clean completed')\n",
    "    time.sleep(15)"
   ]
  },
  {
   "cell_type": "code",
   "execution_count": 12,
   "metadata": {},
   "outputs": [],
   "source": [
    "if master_data_prod.shape[0] != 0:\n",
    "    master_data_prod.to_csv('./data/products.csv',index=False)"
   ]
  },
  {
   "cell_type": "code",
   "execution_count": 15,
   "metadata": {},
   "outputs": [],
   "source": [
    "strat_buckets = (\"\"\"SELECT\n",
    "    sb.id AS strategy_bucket_id, \n",
    "    bucket_id, \n",
    "    sb.active, \n",
    "    sb.status as sbucket_status ,\n",
    "    sba.status as IO_status,\n",
    "    sba.attribute_id\n",
    "FROM \"public\".\"strategy_buckets\" as sb\n",
    "\n",
    "INNER JOIN strategy_buckets_attributes as sba\n",
    "ON sb.id = sba.strategy_bucket_id\n",
    "WHERE sba.status = 'OPT_IN'\"\"\")"
   ]
  },
  {
   "cell_type": "code",
   "execution_count": 16,
   "metadata": {},
   "outputs": [],
   "source": [
    "sb = pd.read_sql(strat_buckets,conn)"
   ]
  },
  {
   "cell_type": "code",
   "execution_count": 17,
   "metadata": {},
   "outputs": [],
   "source": [
    "sb.to_csv('./data/strat_buck.csv',index=False)"
   ]
  },
  {
   "cell_type": "raw",
   "metadata": {},
   "source": [
    "query = (\n",
    "'''SELECT \n",
    "    ct.id as curation_task_id,\n",
    "    ct.customer_id, \n",
    "    ct.resolution, \n",
    "    date_trunc('day',ct.started_at) as \"started_at\",\n",
    "    cpf.product_id,\n",
    "    cpf.\"name\" AS attribute_name,\n",
    "    SUM(CASE WHEN cpf.value = 'n/a' THEN 1 ELSE 0 END),\n",
    "    COUNT(cpf.value) as \n",
    "FROM \"curation_tasks\" AS ct\n",
    "\n",
    "LEFT JOIN curated_product_fields AS cpf\n",
    "ON ct.product_id = cpf.product_id\n",
    "\n",
    "WHERE started_at >= CURRENT_TIMESTAMP - INTERVAL '1 week'\n",
    "--- specific resolution that are not taken care of my rules or bulk\n",
    "--- AND (ct.resolution IS NULL OR ct.resolution = 'misclassified')\n",
    "AND (ct.customer_id = {})\n",
    "GROUP BY\n",
    "    ct.id,\n",
    "    ct.customer_id, \n",
    "    ct.resolution,\n",
    "    cpf.product_id,\n",
    "    cpf.\"name\",\n",
    "    ct.started_at\n",
    "ORDER BY started_at\n",
    "'''\n",
    ")"
   ]
  },
  {
   "cell_type": "code",
   "execution_count": null,
   "metadata": {},
   "outputs": [],
   "source": []
  }
 ],
 "metadata": {
  "kernelspec": {
   "display_name": "Python 3",
   "language": "python",
   "name": "python3"
  },
  "language_info": {
   "codemirror_mode": {
    "name": "ipython",
    "version": 3
   },
   "file_extension": ".py",
   "mimetype": "text/x-python",
   "name": "python",
   "nbconvert_exporter": "python",
   "pygments_lexer": "ipython3",
   "version": "3.5.6"
  }
 },
 "nbformat": 4,
 "nbformat_minor": 2
}
