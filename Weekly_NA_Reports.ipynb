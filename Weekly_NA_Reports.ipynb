{
 "cells": [
  {
   "cell_type": "markdown",
   "metadata": {},
   "source": [
    "# Pull Queries from Postgres as a CSV file"
   ]
  },
  {
   "cell_type": "code",
   "execution_count": 14,
   "metadata": {},
   "outputs": [],
   "source": [
    "import pandas as pd\n",
    "\n",
    "#Get the previous date\n",
    "from datetime import date, timedelta, datetime\n",
    "\n",
    "#Interacting with Postgres SQL\n",
    "import psycopg2\n",
    "\n",
    "import time\n",
    "\n",
    "#importing database\n",
    "from database_config import postgres \n",
    "import database_config"
   ]
  },
  {
   "cell_type": "markdown",
   "metadata": {},
   "source": [
    "# Establishing Connection to Postgres via psycopg2"
   ]
  },
  {
   "cell_type": "code",
   "execution_count": 15,
   "metadata": {},
   "outputs": [],
   "source": [
    "#Setting up the connection to the PostgreSQL -feeddate\n",
    "conn = psycopg2.connect(**postgres)"
   ]
  },
  {
   "cell_type": "code",
   "execution_count": 16,
   "metadata": {},
   "outputs": [],
   "source": [
    "#this works with the last days of the month as well. \n",
    "todays_date = str(datetime.today())[:10]"
   ]
  },
  {
   "cell_type": "code",
   "execution_count": 17,
   "metadata": {},
   "outputs": [],
   "source": [
    "cust_list = {\n",
    "78:'Paiges',\n",
    "77:'Container Store',\n",
    "71: 'Burlington',\n",
    "55: 'CVS'\n",
    "}"
   ]
  },
  {
   "cell_type": "code",
   "execution_count": 18,
   "metadata": {},
   "outputs": [],
   "source": [
    "important_customers = cust_list"
   ]
  },
  {
   "cell_type": "markdown",
   "metadata": {},
   "source": [
    "## Query"
   ]
  },
  {
   "cell_type": "code",
   "execution_count": 19,
   "metadata": {},
   "outputs": [],
   "source": [
    "company_na_reports = (  \n",
    "'''SELECT \n",
    "    ct.\"id\" AS curation_task_id, \n",
    "    ct.customer_id, \n",
    "    ct.resolution, \n",
    "    --- truncated the timestamp from the date for aggregation.\n",
    "    date_trunc('day',ct.started_at) as \"started_at\",\n",
    "    cpf.product_id,\n",
    "    cpf.\"name\" AS attribute_name, \n",
    "    cpf.\"Total_NAs\", \n",
    "    cpf.curation_tasks_count\n",
    "FROM \"curation_tasks\" AS ct\n",
    "\n",
    "INNER JOIN \n",
    "    (SELECT \n",
    "        cpf.curation_task_id,\n",
    "        cpf.customer_id,\n",
    "        cpf.product_id,\n",
    "        cpf.name, \n",
    "        SUM(CASE WHEN cpf.value = 'n/a' THEN 1 ELSE 0 END) as \"Total_NAs\",\n",
    "        COUNT(cpf.id) AS curation_tasks_count\n",
    "    FROM \"public\".\"curated_product_fields\"  as cpf\n",
    "    WHERE customer_id = {}\n",
    "    GROUP BY\n",
    "        cpf.curation_task_id,    \n",
    "        cpf.customer_id,\n",
    "        cpf.product_id,\n",
    "        cpf.name\n",
    "    ) AS cpf\n",
    "ON ct.id = cpf.curation_task_id\n",
    "\n",
    "WHERE started_at >= CURRENT_TIMESTAMP - INTERVAL '14 days'\n",
    "--- specific resolution that are not taken care of my rules or bulk\n",
    "AND (ct.resolution IS NULL OR ct.resolution = 'misclassified') \n",
    "AND ct.customer_id = {}\n",
    "ORDER BY started_at;\n",
    "''')"
   ]
  },
  {
   "cell_type": "code",
   "execution_count": 20,
   "metadata": {},
   "outputs": [
    {
     "name": "stdout",
     "output_type": "stream",
     "text": [
      "No data available in your time frame for Cust_id  78\n",
      "78 query and data clean completed\n",
      "77 query and data clean completed\n"
     ]
    },
    {
     "ename": "KeyboardInterrupt",
     "evalue": "",
     "output_type": "error",
     "traceback": [
      "\u001b[1;31m---------------------------------------------------------------------------\u001b[0m",
      "\u001b[1;31mKeyboardInterrupt\u001b[0m                         Traceback (most recent call last)",
      "\u001b[1;32m<ipython-input-20-9e38892ffe7e>\u001b[0m in \u001b[0;36m<module>\u001b[1;34m\u001b[0m\n\u001b[0;32m     11\u001b[0m     \u001b[0mmaster_data\u001b[0m \u001b[1;33m=\u001b[0m \u001b[0mmaster_data\u001b[0m\u001b[1;33m.\u001b[0m\u001b[0mappend\u001b[0m\u001b[1;33m(\u001b[0m\u001b[0mdata\u001b[0m\u001b[1;33m,\u001b[0m\u001b[0msort\u001b[0m\u001b[1;33m=\u001b[0m\u001b[1;32mFalse\u001b[0m\u001b[1;33m)\u001b[0m\u001b[1;33m\u001b[0m\u001b[1;33m\u001b[0m\u001b[0m\n\u001b[0;32m     12\u001b[0m     \u001b[0mprint\u001b[0m\u001b[1;33m(\u001b[0m\u001b[0mcust\u001b[0m\u001b[1;33m,\u001b[0m \u001b[1;34m'query and data clean completed'\u001b[0m\u001b[1;33m)\u001b[0m\u001b[1;33m\u001b[0m\u001b[1;33m\u001b[0m\u001b[0m\n\u001b[1;32m---> 13\u001b[1;33m     \u001b[0mtime\u001b[0m\u001b[1;33m.\u001b[0m\u001b[0msleep\u001b[0m\u001b[1;33m(\u001b[0m\u001b[1;36m15\u001b[0m\u001b[1;33m)\u001b[0m\u001b[1;33m\u001b[0m\u001b[1;33m\u001b[0m\u001b[0m\n\u001b[0m",
      "\u001b[1;31mKeyboardInterrupt\u001b[0m: "
     ]
    }
   ],
   "source": [
    "master_data = pd.DataFrame()\n",
    "for cust in important_customers:\n",
    "    #Returning the data in pandas to export it as a CSV.\n",
    "    data = pd.read_sql(company_na_reports.format(cust,cust),conn)\n",
    "    if data.shape[0] != 0:\n",
    "        data['started_at'] = data['started_at'].dt.date\n",
    "        data['customer_name']= important_customers[cust]\n",
    "    else:\n",
    "        print('No data available in your time frame for Cust_id ',cust)\n",
    "        pass\n",
    "    master_data = master_data.append(data,sort=False)\n",
    "    print(cust, 'query and data clean completed')"
   ]
  },
  {
   "cell_type": "code",
   "execution_count": 7,
   "metadata": {},
   "outputs": [
    {
     "data": {
      "text/plain": [
       "(207980, 9)"
      ]
     },
     "execution_count": 7,
     "metadata": {},
     "output_type": "execute_result"
    }
   ],
   "source": [
    "master_data.shape"
   ]
  },
  {
   "cell_type": "code",
   "execution_count": 8,
   "metadata": {},
   "outputs": [
    {
     "data": {
      "text/html": [
       "<div>\n",
       "<style scoped>\n",
       "    .dataframe tbody tr th:only-of-type {\n",
       "        vertical-align: middle;\n",
       "    }\n",
       "\n",
       "    .dataframe tbody tr th {\n",
       "        vertical-align: top;\n",
       "    }\n",
       "\n",
       "    .dataframe thead th {\n",
       "        text-align: right;\n",
       "    }\n",
       "</style>\n",
       "<table border=\"1\" class=\"dataframe\">\n",
       "  <thead>\n",
       "    <tr style=\"text-align: right;\">\n",
       "      <th></th>\n",
       "      <th>curation_task_id</th>\n",
       "      <th>customer_id</th>\n",
       "      <th>resolution</th>\n",
       "      <th>started_at</th>\n",
       "      <th>product_id</th>\n",
       "      <th>attribute_name</th>\n",
       "      <th>Total_NAs</th>\n",
       "      <th>curation_tasks_count</th>\n",
       "      <th>customer_name</th>\n",
       "    </tr>\n",
       "  </thead>\n",
       "  <tbody>\n",
       "    <tr>\n",
       "      <th>0</th>\n",
       "      <td>98770317</td>\n",
       "      <td>55</td>\n",
       "      <td>None</td>\n",
       "      <td>2018-10-23</td>\n",
       "      <td>225592236</td>\n",
       "      <td>gender</td>\n",
       "      <td>0</td>\n",
       "      <td>1</td>\n",
       "      <td>CVS</td>\n",
       "    </tr>\n",
       "    <tr>\n",
       "      <th>1</th>\n",
       "      <td>98770317</td>\n",
       "      <td>55</td>\n",
       "      <td>None</td>\n",
       "      <td>2018-10-23</td>\n",
       "      <td>225592237</td>\n",
       "      <td>gender</td>\n",
       "      <td>0</td>\n",
       "      <td>1</td>\n",
       "      <td>CVS</td>\n",
       "    </tr>\n",
       "    <tr>\n",
       "      <th>2</th>\n",
       "      <td>98770317</td>\n",
       "      <td>55</td>\n",
       "      <td>None</td>\n",
       "      <td>2018-10-23</td>\n",
       "      <td>225592238</td>\n",
       "      <td>gender</td>\n",
       "      <td>0</td>\n",
       "      <td>1</td>\n",
       "      <td>CVS</td>\n",
       "    </tr>\n",
       "    <tr>\n",
       "      <th>3</th>\n",
       "      <td>98770812</td>\n",
       "      <td>55</td>\n",
       "      <td>None</td>\n",
       "      <td>2018-10-23</td>\n",
       "      <td>225583547</td>\n",
       "      <td>gender</td>\n",
       "      <td>0</td>\n",
       "      <td>1</td>\n",
       "      <td>CVS</td>\n",
       "    </tr>\n",
       "    <tr>\n",
       "      <th>4</th>\n",
       "      <td>98770812</td>\n",
       "      <td>55</td>\n",
       "      <td>None</td>\n",
       "      <td>2018-10-23</td>\n",
       "      <td>225583548</td>\n",
       "      <td>gender</td>\n",
       "      <td>0</td>\n",
       "      <td>1</td>\n",
       "      <td>CVS</td>\n",
       "    </tr>\n",
       "  </tbody>\n",
       "</table>\n",
       "</div>"
      ],
      "text/plain": [
       "  curation_task_id customer_id resolution  started_at product_id  \\\n",
       "0         98770317          55       None  2018-10-23  225592236   \n",
       "1         98770317          55       None  2018-10-23  225592237   \n",
       "2         98770317          55       None  2018-10-23  225592238   \n",
       "3         98770812          55       None  2018-10-23  225583547   \n",
       "4         98770812          55       None  2018-10-23  225583548   \n",
       "\n",
       "  attribute_name Total_NAs curation_tasks_count customer_name  \n",
       "0         gender         0                    1           CVS  \n",
       "1         gender         0                    1           CVS  \n",
       "2         gender         0                    1           CVS  \n",
       "3         gender         0                    1           CVS  \n",
       "4         gender         0                    1           CVS  "
      ]
     },
     "execution_count": 8,
     "metadata": {},
     "output_type": "execute_result"
    }
   ],
   "source": [
    "master_data.head()"
   ]
  },
  {
   "cell_type": "code",
   "execution_count": 9,
   "metadata": {},
   "outputs": [],
   "source": [
    "if master_data.shape[0] != 0:\n",
    "    master_data.to_csv('./data/NA_report.csv',index=False)"
   ]
  },
  {
   "cell_type": "markdown",
   "metadata": {},
   "source": [
    "# Querying n/a Product data"
   ]
  },
  {
   "cell_type": "code",
   "execution_count": 10,
   "metadata": {},
   "outputs": [],
   "source": [
    "query_product = (\n",
    "'''SELECT\n",
    "    p.customer_id,\n",
    "    pb.bucket_id,\n",
    "    b.name as bucket_name,\n",
    "    p.id as product_id, \n",
    "    p.name as product_name,\n",
    "    p.active, \n",
    "    p.external_id,\n",
    "    p.image_url,\n",
    "    sba.id AS strategy_bucket_attribute_id, \n",
    "    sba.strategy_bucket_id, \n",
    "    sba.attribute_id, \n",
    "    sba.family_friendly\n",
    "FROM \"products\" AS p  \n",
    "INNER JOIN (SELECT product_id, bucket_id FROM products_buckets) as pb\n",
    "ON p.id = pb.product_id\n",
    "INNER JOIN (SELECT id, name FROM buckets) as b\n",
    "ON pb.bucket_id = b.id\n",
    "INNER JOIN (SELECT id FROM strategy_buckets) as sb\n",
    "ON pb.bucket_id = sb.id\n",
    "INNER JOIN (SELECT id,attribute_id, strategy_bucket_id,family_friendly FROM strategy_buckets_attributes) as sba\n",
    "ON sba.strategy_bucket_id = sb.id\n",
    "Where p.active = 't'\n",
    "AND p.customer_id  = {}\n",
    "ORDER BY p.id\n",
    "'''\n",
    ")"
   ]
  },
  {
   "cell_type": "code",
   "execution_count": 11,
   "metadata": {},
   "outputs": [
    {
     "name": "stdout",
     "output_type": "stream",
     "text": [
      "Cust_id  55 Product query and data clean completed\n",
      "Cust_id  75 Product query and data clean completed\n",
      "Cust_id  77 Product query and data clean completed\n",
      "Cust_id  78 Product query and data clean completed\n",
      "Cust_id  71 Product query and data clean completed\n"
     ]
    }
   ],
   "source": [
    "master_data_prod = pd.DataFrame()\n",
    "for cust in important_customers:\n",
    "    #Returning the data in pandas to export it as a CSV.\n",
    "    data_prod = pd.read_sql(query_product.format(cust),conn)\n",
    "    if data_prod.shape[0] == 0:\n",
    "        print('No data_prod available in your time frame for Cust_ID ',cust)\n",
    "    else:\n",
    "        pass\n",
    "    master_data_prod = master_data_prod.append(data_prod,sort=False)\n",
    "    print('Cust_id ',cust, 'Product query and data clean completed')\n",
    "    time.sleep(10)"
   ]
  },
  {
   "cell_type": "code",
   "execution_count": 25,
   "metadata": {},
   "outputs": [
    {
     "data": {
      "text/plain": [
       "[78, 77, 71, 55]"
      ]
     },
     "execution_count": 25,
     "metadata": {},
     "output_type": "execute_result"
    }
   ],
   "source": [
    "[i for i in important_customers]"
   ]
  },
  {
   "cell_type": "code",
   "execution_count": 12,
   "metadata": {},
   "outputs": [],
   "source": [
    "if master_data_prod.shape[0] != 0:\n",
    "    master_data_prod.to_csv('./data/products.csv',index=False)"
   ]
  },
  {
   "cell_type": "code",
   "execution_count": 13,
   "metadata": {},
   "outputs": [
    {
     "data": {
      "text/plain": [
       "(207980, 2764546)"
      ]
     },
     "execution_count": 13,
     "metadata": {},
     "output_type": "execute_result"
    }
   ],
   "source": [
    "master_data.shape[0],master_data_prod.shape[0]"
   ]
  },
  {
   "cell_type": "code",
   "execution_count": 14,
   "metadata": {},
   "outputs": [],
   "source": [
    "if (master_data.shape[0] > 0) and (master_data_prod.shape[0] > 0):\n",
    "    with open('G:/My Drive/Projects/NA_Reports/NA_Report_log.txt','r+',encoding='utf-8') as f:\n",
    "        previous_contents =f.read()\n",
    "        f.seek(0,0)\n",
    "        f.write(todays_date+' data update has been confirmed.\\n')\n",
    "        f.write(previous_contents)\n",
    "else:\n",
    "    with open('G:/My Drive/Projects/NA_Reports/NA_Report_log.txt','r+',encoding='utf-8') as f:\n",
    "        previous_contents =f.read()\n",
    "        f.seek(0,0)\n",
    "        f.write(todays_date+' an error has occured and no data has been updated.\\n')\n",
    "        f.write(previous_contents)"
   ]
  },
  {
   "cell_type": "code",
   "execution_count": null,
   "metadata": {},
   "outputs": [],
   "source": []
  }
 ],
 "metadata": {
  "kernelspec": {
   "display_name": "Python 3",
   "language": "python",
   "name": "python3"
  },
  "language_info": {
   "codemirror_mode": {
    "name": "ipython",
    "version": 3
   },
   "file_extension": ".py",
   "mimetype": "text/x-python",
   "name": "python",
   "nbconvert_exporter": "python",
   "pygments_lexer": "ipython3",
   "version": "3.7.1"
  }
 },
 "nbformat": 4,
 "nbformat_minor": 2
}
