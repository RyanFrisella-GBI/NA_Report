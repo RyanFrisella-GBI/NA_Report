{
 "cells": [
  {
   "cell_type": "code",
   "execution_count": 265,
   "metadata": {},
   "outputs": [],
   "source": [
    "import pandas as pd\n",
    "import numpy as np\n",
    "\n",
    "import psycopg2\n",
    "\n",
    "from datetime import datetime\n",
    "import time\n",
    "\n",
    "from database_config import postgres as cfg, cust_list\n",
    "\n",
    "import matplotlib.pyplot as plt\n",
    "import seaborn as sns\n",
    "\n",
    "#import autocorr and PAutocorr\n",
    "from statsmodels.tsa.arima_model import ARMA\n",
    "\n",
    "from sklearn.cross_validation import train_test_split\n",
    "from sklearn.metrics import mean_absolute_error\n",
    "from sklearn.preprocessing import OneHotEncoder, LabelEncoder\n",
    "from sklearn.linear_model import LinearRegression\n",
    "from sklearn.metrics import mean_absolute_error"
   ]
  },
  {
   "cell_type": "code",
   "execution_count": 266,
   "metadata": {},
   "outputs": [],
   "source": [
    "conn = psycopg2.connect(database=cfg['database'],user=cfg['user'],password=cfg['password'],host=cfg['host'],port=\"5432\")"
   ]
  },
  {
   "cell_type": "code",
   "execution_count": 267,
   "metadata": {},
   "outputs": [],
   "source": [
    "#this works with the last days of the month as well. \n",
    "todays_date = str(datetime.today())[:10]"
   ]
  },
  {
   "cell_type": "code",
   "execution_count": 268,
   "metadata": {},
   "outputs": [],
   "source": [
    "important_customers = cust_list"
   ]
  },
  {
   "cell_type": "code",
   "execution_count": 269,
   "metadata": {},
   "outputs": [],
   "source": [
    "query = (  \n",
    "'''SELECT \n",
    "    ct.customer_id, \n",
    "    ct.resolution, \n",
    "    ct.started_at,\n",
    "    cpf.\"name\" AS attribute_name, \n",
    "    cpf.\"Total_NAs\", \n",
    "    cpf.curation_tasks_count\n",
    "FROM \"curation_tasks\" AS ct\n",
    "\n",
    "INNER JOIN \n",
    "    (SELECT \n",
    "        cpf.customer_id,\n",
    "        cpf.curation_task_id,\n",
    "        cpf.name,\n",
    "        SUM(CASE WHEN cpf.value = 'n/a' THEN 1 ELSE 0 END) as \"Total_NAs\",\n",
    "        COUNT(cpf.id) AS curation_tasks_count\n",
    "    FROM \"public\".\"curated_product_fields\"  as cpf\n",
    "    WHERE customer_id = {}\n",
    "    GROUP BY    \n",
    "        cpf.customer_id,\n",
    "        cpf.curation_task_id,\n",
    "        cpf.name\n",
    "    ) AS cpf\n",
    "ON ct.id = cpf.curation_task_id\n",
    "\n",
    "WHERE started_at >= CURRENT_TIMESTAMP - INTERVAL '14 days'\n",
    "--- specific resolution that are not taken care of my rules or bulk\n",
    "AND (ct.resolution IS NULL OR ct.resolution = 'misclassified') \n",
    "AND ct.customer_id = {}\n",
    "ORDER BY started_at;\n",
    "''')"
   ]
  },
  {
   "cell_type": "code",
   "execution_count": 270,
   "metadata": {},
   "outputs": [
    {
     "name": "stdout",
     "output_type": "stream",
     "text": [
      "55 Data Grab Complete\n",
      "75 Data Grab Complete\n",
      "No data available in your time frame for Cust_id  77\n",
      "77 Data Grab Complete\n",
      "No data available in your time frame for Cust_id  78\n",
      "78 Data Grab Complete\n",
      "71 Data Grab Complete\n"
     ]
    }
   ],
   "source": [
    "master_data = pd.DataFrame()\n",
    "for cust in important_customers:\n",
    "    #Returning the data in pandas to export it as a CSV.\n",
    "    data = pd.read_sql(query.format(cust,cust),conn)\n",
    "    if data.shape[0] != 0:\n",
    "        data['customer_name']= important_customers[cust]\n",
    "    else:\n",
    "        print('No data available in your time frame for Cust_id ',cust)\n",
    "        pass\n",
    "    master_data = master_data.append(data,sort=False)\n",
    "    print(cust, 'Data Grab Complete')\n",
    "    time.sleep(10)"
   ]
  },
  {
   "cell_type": "code",
   "execution_count": 271,
   "metadata": {},
   "outputs": [],
   "source": [
    "master_data.to_csv('./data/master_data.csv')"
   ]
  },
  {
   "cell_type": "markdown",
   "metadata": {},
   "source": [
    "# Reading in Prior data"
   ]
  },
  {
   "cell_type": "code",
   "execution_count": 272,
   "metadata": {},
   "outputs": [],
   "source": [
    "master_data = pd.read_csv('./data/master_data.csv')"
   ]
  },
  {
   "cell_type": "raw",
   "metadata": {},
   "source": [
    "master_data = master_data.drop_duplicates()"
   ]
  },
  {
   "cell_type": "code",
   "execution_count": 273,
   "metadata": {},
   "outputs": [],
   "source": [
    "df = master_data"
   ]
  },
  {
   "cell_type": "code",
   "execution_count": 274,
   "metadata": {},
   "outputs": [],
   "source": [
    "df['started_at'] = pd.to_datetime(df['started_at'])"
   ]
  },
  {
   "cell_type": "code",
   "execution_count": 275,
   "metadata": {},
   "outputs": [],
   "source": [
    "df.drop(columns='Unnamed: 0',inplace=True)"
   ]
  },
  {
   "cell_type": "code",
   "execution_count": 276,
   "metadata": {},
   "outputs": [],
   "source": [
    "df['date']= [d.date() for d in  df['started_at']]\n",
    "df['time']= [d.time() for d in  df['started_at']]"
   ]
  },
  {
   "cell_type": "code",
   "execution_count": 277,
   "metadata": {},
   "outputs": [],
   "source": [
    "df['hour'] = [d.hour for d in df['time']]"
   ]
  },
  {
   "cell_type": "markdown",
   "metadata": {},
   "source": [
    "# Manuel Method to study Trends"
   ]
  },
  {
   "cell_type": "code",
   "execution_count": 278,
   "metadata": {},
   "outputs": [],
   "source": [
    "gpby = df[['attribute_name',\n",
    "       'Total_NAs', 'curation_tasks_count', 'customer_name', 'date', 'time',\n",
    "       'hour']].groupby(by=['date','hour','attribute_name']).sum().groupby(level=[2]).cumsum()"
   ]
  },
  {
   "cell_type": "code",
   "execution_count": 279,
   "metadata": {},
   "outputs": [],
   "source": [
    "gpby['% of tasks'] = round(gpby['Total_NAs']/gpby['curation_tasks_count']*100,2)"
   ]
  },
  {
   "cell_type": "code",
   "execution_count": 280,
   "metadata": {},
   "outputs": [],
   "source": [
    "crn = gpby[(gpby['% of tasks']>60) & (gpby['Total_NAs']>100)]"
   ]
  },
  {
   "cell_type": "code",
   "execution_count": 281,
   "metadata": {},
   "outputs": [
    {
     "name": "stderr",
     "output_type": "stream",
     "text": [
      "C:\\Users\\groupby\\Anaconda3\\lib\\site-packages\\ipykernel_launcher.py:1: SettingWithCopyWarning: \n",
      "A value is trying to be set on a copy of a slice from a DataFrame\n",
      "\n",
      "See the caveats in the documentation: http://pandas.pydata.org/pandas-docs/stable/indexing.html#indexing-view-versus-copy\n",
      "  \"\"\"Entry point for launching an IPython kernel.\n"
     ]
    }
   ],
   "source": [
    "crn.sort_values(by='% of tasks',ascending=False,inplace=True)"
   ]
  },
  {
   "cell_type": "code",
   "execution_count": 282,
   "metadata": {},
   "outputs": [],
   "source": [
    "foo = crn.reset_index(level=[0,1],drop=True)"
   ]
  },
  {
   "cell_type": "code",
   "execution_count": 283,
   "metadata": {},
   "outputs": [],
   "source": [
    "hi_na_names =foo.index.unique()"
   ]
  },
  {
   "cell_type": "code",
   "execution_count": 284,
   "metadata": {},
   "outputs": [],
   "source": [
    "df['Total_NAs'] = df['Total_NAs'].astype('int64')"
   ]
  },
  {
   "cell_type": "code",
   "execution_count": 285,
   "metadata": {},
   "outputs": [],
   "source": [
    "stgpby = df[df['attribute_name'].isin(hi_na_names)].groupby(by=['attribute_name','customer_name']).sum().sort_values('Total_NAs',ascending=False)"
   ]
  },
  {
   "cell_type": "code",
   "execution_count": 286,
   "metadata": {},
   "outputs": [
    {
     "data": {
      "text/plain": [
       "(19, 5)"
      ]
     },
     "execution_count": 286,
     "metadata": {},
     "output_type": "execute_result"
    }
   ],
   "source": [
    "stgpby.shape"
   ]
  },
  {
   "cell_type": "code",
   "execution_count": 287,
   "metadata": {},
   "outputs": [
    {
     "data": {
      "text/html": [
       "<div>\n",
       "<style scoped>\n",
       "    .dataframe tbody tr th:only-of-type {\n",
       "        vertical-align: middle;\n",
       "    }\n",
       "\n",
       "    .dataframe tbody tr th {\n",
       "        vertical-align: top;\n",
       "    }\n",
       "\n",
       "    .dataframe thead th {\n",
       "        text-align: right;\n",
       "    }\n",
       "</style>\n",
       "<table border=\"1\" class=\"dataframe\">\n",
       "  <thead>\n",
       "    <tr style=\"text-align: right;\">\n",
       "      <th></th>\n",
       "      <th></th>\n",
       "      <th>customer_id</th>\n",
       "      <th>resolution</th>\n",
       "      <th>Total_NAs</th>\n",
       "      <th>curation_tasks_count</th>\n",
       "    </tr>\n",
       "    <tr>\n",
       "      <th>attribute_name</th>\n",
       "      <th>customer_name</th>\n",
       "      <th></th>\n",
       "      <th></th>\n",
       "      <th></th>\n",
       "      <th></th>\n",
       "    </tr>\n",
       "  </thead>\n",
       "  <tbody>\n",
       "    <tr>\n",
       "      <th>clothing_features</th>\n",
       "      <th>Dicks Sporting Goods</th>\n",
       "      <td>91050</td>\n",
       "      <td>0.0</td>\n",
       "      <td>6615</td>\n",
       "      <td>7224</td>\n",
       "    </tr>\n",
       "    <tr>\n",
       "      <th>features</th>\n",
       "      <th>Burlington</th>\n",
       "      <td>231247</td>\n",
       "      <td>0.0</td>\n",
       "      <td>3078</td>\n",
       "      <td>4721</td>\n",
       "    </tr>\n",
       "    <tr>\n",
       "      <th>padding</th>\n",
       "      <th>Dicks Sporting Goods</th>\n",
       "      <td>24225</td>\n",
       "      <td>0.0</td>\n",
       "      <td>3069</td>\n",
       "      <td>3104</td>\n",
       "    </tr>\n",
       "    <tr>\n",
       "      <th>concern</th>\n",
       "      <th>CVS</th>\n",
       "      <td>148885</td>\n",
       "      <td>0.0</td>\n",
       "      <td>2233</td>\n",
       "      <td>3421</td>\n",
       "    </tr>\n",
       "    <tr>\n",
       "      <th>search_accessory</th>\n",
       "      <th>Dicks Sporting Goods</th>\n",
       "      <td>99525</td>\n",
       "      <td>0.0</td>\n",
       "      <td>1327</td>\n",
       "      <td>1327</td>\n",
       "    </tr>\n",
       "    <tr>\n",
       "      <th>soccer_goalie_glove_type</th>\n",
       "      <th>Dicks Sporting Goods</th>\n",
       "      <td>18225</td>\n",
       "      <td>0.0</td>\n",
       "      <td>843</td>\n",
       "      <td>1413</td>\n",
       "    </tr>\n",
       "    <tr>\n",
       "      <th>width</th>\n",
       "      <th>Burlington</th>\n",
       "      <td>37488</td>\n",
       "      <td>0.0</td>\n",
       "      <td>590</td>\n",
       "      <td>613</td>\n",
       "    </tr>\n",
       "    <tr>\n",
       "      <th>protection</th>\n",
       "      <th>Dicks Sporting Goods</th>\n",
       "      <td>10350</td>\n",
       "      <td>0.0</td>\n",
       "      <td>588</td>\n",
       "      <td>635</td>\n",
       "    </tr>\n",
       "    <tr>\n",
       "      <th>cup_supporter_type</th>\n",
       "      <th>Dicks Sporting Goods</th>\n",
       "      <td>10200</td>\n",
       "      <td>0.0</td>\n",
       "      <td>501</td>\n",
       "      <td>684</td>\n",
       "    </tr>\n",
       "    <tr>\n",
       "      <th>shoe_features</th>\n",
       "      <th>Burlington</th>\n",
       "      <td>41677</td>\n",
       "      <td>0.0</td>\n",
       "      <td>439</td>\n",
       "      <td>708</td>\n",
       "    </tr>\n",
       "    <tr>\n",
       "      <th>cup_supporter_features</th>\n",
       "      <th>Dicks Sporting Goods</th>\n",
       "      <td>11400</td>\n",
       "      <td>0.0</td>\n",
       "      <td>390</td>\n",
       "      <td>390</td>\n",
       "    </tr>\n",
       "    <tr>\n",
       "      <th>heel_shape</th>\n",
       "      <th>Burlington</th>\n",
       "      <td>31453</td>\n",
       "      <td>0.0</td>\n",
       "      <td>374</td>\n",
       "      <td>526</td>\n",
       "    </tr>\n",
       "    <tr>\n",
       "      <th>skin_type</th>\n",
       "      <th>CVS</th>\n",
       "      <td>14300</td>\n",
       "      <td>0.0</td>\n",
       "      <td>331</td>\n",
       "      <td>469</td>\n",
       "    </tr>\n",
       "    <tr>\n",
       "      <th>key_ingredient</th>\n",
       "      <th>CVS</th>\n",
       "      <td>20185</td>\n",
       "      <td>0.0</td>\n",
       "      <td>328</td>\n",
       "      <td>406</td>\n",
       "    </tr>\n",
       "    <tr>\n",
       "      <th>symptom</th>\n",
       "      <th>CVS</th>\n",
       "      <td>20460</td>\n",
       "      <td>0.0</td>\n",
       "      <td>265</td>\n",
       "      <td>393</td>\n",
       "    </tr>\n",
       "    <tr>\n",
       "      <th>spf</th>\n",
       "      <th>CVS</th>\n",
       "      <td>8195</td>\n",
       "      <td>0.0</td>\n",
       "      <td>145</td>\n",
       "      <td>162</td>\n",
       "    </tr>\n",
       "    <tr>\n",
       "      <th>occasions</th>\n",
       "      <th>CVS</th>\n",
       "      <td>8470</td>\n",
       "      <td>0.0</td>\n",
       "      <td>117</td>\n",
       "      <td>161</td>\n",
       "    </tr>\n",
       "    <tr>\n",
       "      <th>hair_type</th>\n",
       "      <th>CVS</th>\n",
       "      <td>5280</td>\n",
       "      <td>0.0</td>\n",
       "      <td>106</td>\n",
       "      <td>128</td>\n",
       "    </tr>\n",
       "    <tr>\n",
       "      <th>features</th>\n",
       "      <th>CVS</th>\n",
       "      <td>220</td>\n",
       "      <td>0.0</td>\n",
       "      <td>2</td>\n",
       "      <td>4</td>\n",
       "    </tr>\n",
       "  </tbody>\n",
       "</table>\n",
       "</div>"
      ],
      "text/plain": [
       "                                               customer_id  resolution  \\\n",
       "attribute_name           customer_name                                   \n",
       "clothing_features        Dicks Sporting Goods        91050         0.0   \n",
       "features                 Burlington                 231247         0.0   \n",
       "padding                  Dicks Sporting Goods        24225         0.0   \n",
       "concern                  CVS                        148885         0.0   \n",
       "search_accessory         Dicks Sporting Goods        99525         0.0   \n",
       "soccer_goalie_glove_type Dicks Sporting Goods        18225         0.0   \n",
       "width                    Burlington                  37488         0.0   \n",
       "protection               Dicks Sporting Goods        10350         0.0   \n",
       "cup_supporter_type       Dicks Sporting Goods        10200         0.0   \n",
       "shoe_features            Burlington                  41677         0.0   \n",
       "cup_supporter_features   Dicks Sporting Goods        11400         0.0   \n",
       "heel_shape               Burlington                  31453         0.0   \n",
       "skin_type                CVS                         14300         0.0   \n",
       "key_ingredient           CVS                         20185         0.0   \n",
       "symptom                  CVS                         20460         0.0   \n",
       "spf                      CVS                          8195         0.0   \n",
       "occasions                CVS                          8470         0.0   \n",
       "hair_type                CVS                          5280         0.0   \n",
       "features                 CVS                           220         0.0   \n",
       "\n",
       "                                               Total_NAs  curation_tasks_count  \n",
       "attribute_name           customer_name                                          \n",
       "clothing_features        Dicks Sporting Goods       6615                  7224  \n",
       "features                 Burlington                 3078                  4721  \n",
       "padding                  Dicks Sporting Goods       3069                  3104  \n",
       "concern                  CVS                        2233                  3421  \n",
       "search_accessory         Dicks Sporting Goods       1327                  1327  \n",
       "soccer_goalie_glove_type Dicks Sporting Goods        843                  1413  \n",
       "width                    Burlington                  590                   613  \n",
       "protection               Dicks Sporting Goods        588                   635  \n",
       "cup_supporter_type       Dicks Sporting Goods        501                   684  \n",
       "shoe_features            Burlington                  439                   708  \n",
       "cup_supporter_features   Dicks Sporting Goods        390                   390  \n",
       "heel_shape               Burlington                  374                   526  \n",
       "skin_type                CVS                         331                   469  \n",
       "key_ingredient           CVS                         328                   406  \n",
       "symptom                  CVS                         265                   393  \n",
       "spf                      CVS                         145                   162  \n",
       "occasions                CVS                         117                   161  \n",
       "hair_type                CVS                         106                   128  \n",
       "features                 CVS                           2                     4  "
      ]
     },
     "execution_count": 287,
     "metadata": {},
     "output_type": "execute_result"
    }
   ],
   "source": [
    "stgpby.drop(columns='hour')"
   ]
  },
  {
   "cell_type": "code",
   "execution_count": 289,
   "metadata": {},
   "outputs": [],
   "source": [
    "df.sort_values(['started_at','attribute_name'],inplace=True)"
   ]
  },
  {
   "cell_type": "raw",
   "metadata": {},
   "source": [
    "df.drop(columns=['customer_id','%_of_NA','curation_tasks_count'],inplace=True)"
   ]
  },
  {
   "cell_type": "code",
   "execution_count": 290,
   "metadata": {},
   "outputs": [],
   "source": [
    "df.sort_values(['started_at'],ascending=False,inplace=True)"
   ]
  },
  {
   "cell_type": "code",
   "execution_count": 291,
   "metadata": {},
   "outputs": [
    {
     "data": {
      "text/plain": [
       "Index(['protection', 'cup_supporter_features', 'padding', 'search_accessory',\n",
       "       'width', 'clothing_features', 'spf', 'hair_type', 'key_ingredient',\n",
       "       'soccer_goalie_glove_type', 'heel_shape', 'symptom',\n",
       "       'cup_supporter_type', 'skin_type', 'occasions', 'shoe_features',\n",
       "       'features', 'concern'],\n",
       "      dtype='object', name='attribute_name')"
      ]
     },
     "execution_count": 291,
     "metadata": {},
     "output_type": "execute_result"
    }
   ],
   "source": [
    "hi_na_names"
   ]
  },
  {
   "cell_type": "code",
   "execution_count": 292,
   "metadata": {},
   "outputs": [],
   "source": [
    "pt = pd.pivot_table(df,values='Total_NAs',index=['started_at'],columns=['attribute_name'],fill_value=0,aggfunc=np.sum)"
   ]
  },
  {
   "cell_type": "code",
   "execution_count": 293,
   "metadata": {},
   "outputs": [],
   "source": [
    "high_col = []\n",
    "for col in pt.columns:\n",
    "    if pt[col].sum() > 0:\n",
    "        high_col.append(col)"
   ]
  },
  {
   "cell_type": "code",
   "execution_count": 294,
   "metadata": {},
   "outputs": [],
   "source": [
    "high_na = pt[high_col]"
   ]
  },
  {
   "cell_type": "code",
   "execution_count": 295,
   "metadata": {},
   "outputs": [],
   "source": [
    "na_totals = high_na.sum().sort_values(ascending=False)"
   ]
  },
  {
   "cell_type": "code",
   "execution_count": 296,
   "metadata": {},
   "outputs": [
    {
     "data": {
      "text/plain": [
       "attribute_name\n",
       "fabric_technology           13764\n",
       "fabric                       8651\n",
       "clothing_features            6615\n",
       "closure                      4995\n",
       "features                     3080\n",
       "padding                      3069\n",
       "concern                      2233\n",
       "neckline                     1441\n",
       "search_accessory             1327\n",
       "shoe_width                   1033\n",
       "soccer_goalie_glove_type      843\n",
       "specialty_padding_type        682\n",
       "width                         590\n",
       "protection                    588\n",
       "cup_supporter_type            501\n",
       "shoe_features                 439\n",
       "form                          429\n",
       "primary_flavor                402\n",
       "cup_supporter_features        390\n",
       "heel_shape                    374\n",
       "dtype: int64"
      ]
     },
     "execution_count": 296,
     "metadata": {},
     "output_type": "execute_result"
    }
   ],
   "source": [
    "na_totals.head(20)"
   ]
  },
  {
   "cell_type": "code",
   "execution_count": 297,
   "metadata": {},
   "outputs": [],
   "source": [
    "pt.dropna(inplace=True)"
   ]
  },
  {
   "cell_type": "markdown",
   "metadata": {},
   "source": [
    "# Testing an ARIMA model anomaly detection\n",
    "\n",
    "Reasoning: This could be something we want because with anomoaly detection, we can trigger when we are getting too many NA values. Once we have this, we can pause the system.\n",
    "In combination with linear regression, we can use the coeffients to learn which weights are causing the most N/A values to investigate. \n",
    "\n",
    "The current detection is on "
   ]
  },
  {
   "cell_type": "code",
   "execution_count": 298,
   "metadata": {},
   "outputs": [
    {
     "name": "stderr",
     "output_type": "stream",
     "text": [
      "C:\\Users\\groupby\\Anaconda3\\lib\\site-packages\\statsmodels\\tsa\\base\\tsa_model.py:221: ValueWarning: An unsupported index was provided and will be ignored when e.g. forecasting.\n",
      "  ' ignored when e.g. forecasting.', ValueWarning)\n",
      "C:\\Users\\groupby\\Anaconda3\\lib\\site-packages\\scipy\\signal\\signaltools.py:1341: FutureWarning: Using a non-tuple sequence for multidimensional indexing is deprecated; use `arr[tuple(seq)]` instead of `arr[seq]`. In the future this will be interpreted as an array index, `arr[np.array(seq)]`, which will result either in an error or a different result.\n",
      "  out_full[ind] += zi\n",
      "C:\\Users\\groupby\\Anaconda3\\lib\\site-packages\\scipy\\signal\\signaltools.py:1344: FutureWarning: Using a non-tuple sequence for multidimensional indexing is deprecated; use `arr[tuple(seq)]` instead of `arr[seq]`. In the future this will be interpreted as an array index, `arr[np.array(seq)]`, which will result either in an error or a different result.\n",
      "  out = out_full[ind]\n",
      "C:\\Users\\groupby\\Anaconda3\\lib\\site-packages\\scipy\\signal\\signaltools.py:1350: FutureWarning: Using a non-tuple sequence for multidimensional indexing is deprecated; use `arr[tuple(seq)]` instead of `arr[seq]`. In the future this will be interpreted as an array index, `arr[np.array(seq)]`, which will result either in an error or a different result.\n",
      "  zf = out_full[ind]\n"
     ]
    }
   ],
   "source": [
    "ar1 = ARMA(pt.sum(),(1,0)).fit()"
   ]
  },
  {
   "cell_type": "code",
   "execution_count": 299,
   "metadata": {},
   "outputs": [
    {
     "data": {
      "text/html": [
       "<table class=\"simpletable\">\n",
       "<caption>ARMA Model Results</caption>\n",
       "<tr>\n",
       "  <th>Dep. Variable:</th>         <td>y</td>        <th>  No. Observations:  </th>    <td>116</td>   \n",
       "</tr>\n",
       "<tr>\n",
       "  <th>Model:</th>            <td>ARMA(1, 0)</td>    <th>  Log Likelihood     </th> <td>-1011.161</td>\n",
       "</tr>\n",
       "<tr>\n",
       "  <th>Method:</th>             <td>css-mle</td>     <th>  S.D. of innovations</th> <td>1475.466</td> \n",
       "</tr>\n",
       "<tr>\n",
       "  <th>Date:</th>          <td>Tue, 30 Oct 2018</td> <th>  AIC                </th> <td>2028.322</td> \n",
       "</tr>\n",
       "<tr>\n",
       "  <th>Time:</th>              <td>13:17:49</td>     <th>  BIC                </th> <td>2036.583</td> \n",
       "</tr>\n",
       "<tr>\n",
       "  <th>Sample:</th>                <td>0</td>        <th>  HQIC               </th> <td>2031.675</td> \n",
       "</tr>\n",
       "<tr>\n",
       "  <th></th>                       <td> </td>        <th>                     </th>     <td> </td>    \n",
       "</tr>\n",
       "</table>\n",
       "<table class=\"simpletable\">\n",
       "<tr>\n",
       "     <td></td>        <th>coef</th>     <th>std err</th>      <th>z</th>      <th>P>|z|</th>  <th>[0.025</th>    <th>0.975]</th>  \n",
       "</tr>\n",
       "<tr>\n",
       "  <th>const</th>   <td>  483.4383</td> <td>  271.389</td> <td>    1.781</td> <td> 0.078</td> <td>  -48.474</td> <td> 1015.351</td>\n",
       "</tr>\n",
       "<tr>\n",
       "  <th>ar.L1.y</th> <td>    0.4995</td> <td>    0.080</td> <td>    6.269</td> <td> 0.000</td> <td>    0.343</td> <td>    0.656</td>\n",
       "</tr>\n",
       "</table>\n",
       "<table class=\"simpletable\">\n",
       "<caption>Roots</caption>\n",
       "<tr>\n",
       "    <td></td>   <th>            Real</th>  <th>         Imaginary</th> <th>         Modulus</th>  <th>        Frequency</th>\n",
       "</tr>\n",
       "<tr>\n",
       "  <th>AR.1</th> <td>           2.0020</td> <td>          +0.0000j</td> <td>           2.0020</td> <td>           0.0000</td>\n",
       "</tr>\n",
       "</table>"
      ],
      "text/plain": [
       "<class 'statsmodels.iolib.summary.Summary'>\n",
       "\"\"\"\n",
       "                              ARMA Model Results                              \n",
       "==============================================================================\n",
       "Dep. Variable:                      y   No. Observations:                  116\n",
       "Model:                     ARMA(1, 0)   Log Likelihood               -1011.161\n",
       "Method:                       css-mle   S.D. of innovations           1475.466\n",
       "Date:                Tue, 30 Oct 2018   AIC                           2028.322\n",
       "Time:                        13:17:49   BIC                           2036.583\n",
       "Sample:                             0   HQIC                          2031.675\n",
       "                                                                              \n",
       "==============================================================================\n",
       "                 coef    std err          z      P>|z|      [0.025      0.975]\n",
       "------------------------------------------------------------------------------\n",
       "const        483.4383    271.389      1.781      0.078     -48.474    1015.351\n",
       "ar.L1.y        0.4995      0.080      6.269      0.000       0.343       0.656\n",
       "                                    Roots                                    \n",
       "=============================================================================\n",
       "                  Real          Imaginary           Modulus         Frequency\n",
       "-----------------------------------------------------------------------------\n",
       "AR.1            2.0020           +0.0000j            2.0020            0.0000\n",
       "-----------------------------------------------------------------------------\n",
       "\"\"\""
      ]
     },
     "execution_count": 299,
     "metadata": {},
     "output_type": "execute_result"
    }
   ],
   "source": [
    "ar1.summary()"
   ]
  },
  {
   "cell_type": "code",
   "execution_count": 300,
   "metadata": {},
   "outputs": [
    {
     "data": {
      "image/png": "[encoded data removed]",
      "text/plain": [
       "<Figure size 864x360 with 1 Axes>"
      ]
     },
     "metadata": {
      "needs_background": "light"
     },
     "output_type": "display_data"
    }
   ],
   "source": [
    "# input time values (into the AR model) are from observed data\n",
    "predictions = ar1.predict()\n",
    "\n",
    "fig, ax = plt.subplots(figsize=(12,5))\n",
    "ax.plot(pt.sum(), lw=2, color='grey', ls='dashed',label='Data')\n",
    "ax.plot(predictions, lw=2, color='darkred',label='Fit')\n",
    "plt.xticks(())\n",
    "plt.legend()\n",
    "plt.show()"
   ]
  },
  {
   "cell_type": "markdown",
   "metadata": {},
   "source": [
    "# Regressor to identify items that cause the most N/A values"
   ]
  },
  {
   "cell_type": "code",
   "execution_count": 301,
   "metadata": {},
   "outputs": [
    {
     "data": {
      "text/html": [
       "<div>\n",
       "<style scoped>\n",
       "    .dataframe tbody tr th:only-of-type {\n",
       "        vertical-align: middle;\n",
       "    }\n",
       "\n",
       "    .dataframe tbody tr th {\n",
       "        vertical-align: top;\n",
       "    }\n",
       "\n",
       "    .dataframe thead th {\n",
       "        text-align: right;\n",
       "    }\n",
       "</style>\n",
       "<table border=\"1\" class=\"dataframe\">\n",
       "  <thead>\n",
       "    <tr style=\"text-align: right;\">\n",
       "      <th></th>\n",
       "      <th>customer_id</th>\n",
       "      <th>resolution</th>\n",
       "      <th>started_at</th>\n",
       "      <th>attribute_name</th>\n",
       "      <th>Total_NAs</th>\n",
       "      <th>curation_tasks_count</th>\n",
       "      <th>customer_name</th>\n",
       "      <th>date</th>\n",
       "      <th>time</th>\n",
       "      <th>hour</th>\n",
       "    </tr>\n",
       "  </thead>\n",
       "  <tbody>\n",
       "    <tr>\n",
       "      <th>127921</th>\n",
       "      <td>75</td>\n",
       "      <td>NaN</td>\n",
       "      <td>2018-10-30 10:38:35.143056</td>\n",
       "      <td>shorts_type</td>\n",
       "      <td>0</td>\n",
       "      <td>1</td>\n",
       "      <td>Dicks Sporting Goods</td>\n",
       "      <td>2018-10-30</td>\n",
       "      <td>10:38:35.143056</td>\n",
       "      <td>10</td>\n",
       "    </tr>\n",
       "    <tr>\n",
       "      <th>19058</th>\n",
       "      <td>55</td>\n",
       "      <td>NaN</td>\n",
       "      <td>2018-10-30 10:36:44.183244</td>\n",
       "      <td>lifestage</td>\n",
       "      <td>0</td>\n",
       "      <td>1</td>\n",
       "      <td>CVS</td>\n",
       "      <td>2018-10-30</td>\n",
       "      <td>10:36:44.183244</td>\n",
       "      <td>10</td>\n",
       "    </tr>\n",
       "    <tr>\n",
       "      <th>127920</th>\n",
       "      <td>75</td>\n",
       "      <td>NaN</td>\n",
       "      <td>2018-10-30 10:36:36.092626</td>\n",
       "      <td>shorts_type</td>\n",
       "      <td>0</td>\n",
       "      <td>1</td>\n",
       "      <td>Dicks Sporting Goods</td>\n",
       "      <td>2018-10-30</td>\n",
       "      <td>10:36:36.092626</td>\n",
       "      <td>10</td>\n",
       "    </tr>\n",
       "    <tr>\n",
       "      <th>127919</th>\n",
       "      <td>75</td>\n",
       "      <td>NaN</td>\n",
       "      <td>2018-10-30 10:36:29.681074</td>\n",
       "      <td>shorts_type</td>\n",
       "      <td>0</td>\n",
       "      <td>1</td>\n",
       "      <td>Dicks Sporting Goods</td>\n",
       "      <td>2018-10-30</td>\n",
       "      <td>10:36:29.681074</td>\n",
       "      <td>10</td>\n",
       "    </tr>\n",
       "    <tr>\n",
       "      <th>127918</th>\n",
       "      <td>75</td>\n",
       "      <td>NaN</td>\n",
       "      <td>2018-10-30 10:36:26.540878</td>\n",
       "      <td>shorts_type</td>\n",
       "      <td>0</td>\n",
       "      <td>1</td>\n",
       "      <td>Dicks Sporting Goods</td>\n",
       "      <td>2018-10-30</td>\n",
       "      <td>10:36:26.540878</td>\n",
       "      <td>10</td>\n",
       "    </tr>\n",
       "  </tbody>\n",
       "</table>\n",
       "</div>"
      ],
      "text/plain": [
       "        customer_id  resolution                 started_at attribute_name  \\\n",
       "127921           75         NaN 2018-10-30 10:38:35.143056    shorts_type   \n",
       "19058            55         NaN 2018-10-30 10:36:44.183244      lifestage   \n",
       "127920           75         NaN 2018-10-30 10:36:36.092626    shorts_type   \n",
       "127919           75         NaN 2018-10-30 10:36:29.681074    shorts_type   \n",
       "127918           75         NaN 2018-10-30 10:36:26.540878    shorts_type   \n",
       "\n",
       "        Total_NAs  curation_tasks_count         customer_name        date  \\\n",
       "127921          0                     1  Dicks Sporting Goods  2018-10-30   \n",
       "19058           0                     1                   CVS  2018-10-30   \n",
       "127920          0                     1  Dicks Sporting Goods  2018-10-30   \n",
       "127919          0                     1  Dicks Sporting Goods  2018-10-30   \n",
       "127918          0                     1  Dicks Sporting Goods  2018-10-30   \n",
       "\n",
       "                   time  hour  \n",
       "127921  10:38:35.143056    10  \n",
       "19058   10:36:44.183244    10  \n",
       "127920  10:36:36.092626    10  \n",
       "127919  10:36:29.681074    10  \n",
       "127918  10:36:26.540878    10  "
      ]
     },
     "execution_count": 301,
     "metadata": {},
     "output_type": "execute_result"
    }
   ],
   "source": [
    "df.head()"
   ]
  },
  {
   "cell_type": "code",
   "execution_count": 302,
   "metadata": {},
   "outputs": [],
   "source": [
    "gb = df[['customer_name','attribute_name','Total_NAs']].groupby(by=['customer_name','attribute_name']).sum()"
   ]
  },
  {
   "cell_type": "code",
   "execution_count": 303,
   "metadata": {},
   "outputs": [],
   "source": [
    "le = LabelEncoder()"
   ]
  },
  {
   "cell_type": "code",
   "execution_count": 304,
   "metadata": {},
   "outputs": [],
   "source": [
    "le_index = le.fit_transform(gb.index.values)"
   ]
  },
  {
   "cell_type": "code",
   "execution_count": 305,
   "metadata": {},
   "outputs": [],
   "source": [
    "gb.index = le_index"
   ]
  },
  {
   "cell_type": "code",
   "execution_count": 306,
   "metadata": {},
   "outputs": [],
   "source": [
    "gb.reset_index(inplace=True)\n",
    "gb.rename(columns={'index':'attribute_names'}, inplace=True)"
   ]
  },
  {
   "cell_type": "code",
   "execution_count": 307,
   "metadata": {},
   "outputs": [],
   "source": [
    "X = gb['attribute_names']\n",
    "y = gb['Total_NAs']"
   ]
  },
  {
   "cell_type": "code",
   "execution_count": 308,
   "metadata": {},
   "outputs": [],
   "source": [
    "X_dum = pd.get_dummies(X,drop_first=True)"
   ]
  },
  {
   "cell_type": "code",
   "execution_count": 309,
   "metadata": {},
   "outputs": [],
   "source": [
    "X_train, X_test, y_train, y_test = train_test_split(X_dum, y, test_size=0.33, random_state=42)"
   ]
  },
  {
   "cell_type": "code",
   "execution_count": 310,
   "metadata": {},
   "outputs": [],
   "source": [
    "model = LinearRegression()"
   ]
  },
  {
   "cell_type": "code",
   "execution_count": 311,
   "metadata": {},
   "outputs": [
    {
     "data": {
      "text/plain": [
       "LinearRegression(copy_X=True, fit_intercept=True, n_jobs=1, normalize=False)"
      ]
     },
     "execution_count": 311,
     "metadata": {},
     "output_type": "execute_result"
    }
   ],
   "source": [
    "model.fit(X_train,y_train)"
   ]
  },
  {
   "cell_type": "code",
   "execution_count": 312,
   "metadata": {},
   "outputs": [
    {
     "data": {
      "text/plain": [
       "-0.0005075087410695289"
      ]
     },
     "execution_count": 312,
     "metadata": {},
     "output_type": "execute_result"
    }
   ],
   "source": [
    "model.score(X_test,y_test)"
   ]
  },
  {
   "cell_type": "code",
   "execution_count": 313,
   "metadata": {},
   "outputs": [],
   "source": [
    "y_pred = model.predict(X_test)"
   ]
  },
  {
   "cell_type": "code",
   "execution_count": 314,
   "metadata": {},
   "outputs": [
    {
     "name": "stderr",
     "output_type": "stream",
     "text": [
      "C:\\Users\\groupby\\Anaconda3\\lib\\site-packages\\sklearn\\preprocessing\\label.py:166: DeprecationWarning: The truth value of an empty array is ambiguous. Returning False, but in future this will result in an error. Use `array.size > 0` to check that an array is not empty.\n",
      "  if diff:\n"
     ]
    }
   ],
   "source": [
    "rank_dict = dict(zip(le.inverse_transform(X_train.columns),model.coef_))"
   ]
  },
  {
   "cell_type": "code",
   "execution_count": 315,
   "metadata": {},
   "outputs": [
    {
     "data": {
      "text/plain": [
       "746.946805666934"
      ]
     },
     "execution_count": 315,
     "metadata": {},
     "output_type": "execute_result"
    }
   ],
   "source": [
    "mean_absolute_error(y_test,y_pred)"
   ]
  },
  {
   "cell_type": "code",
   "execution_count": 316,
   "metadata": {},
   "outputs": [],
   "source": [
    "rank = pd.DataFrame.from_dict(rank_dict,orient='index',columns=['mean_abs_error'])"
   ]
  },
  {
   "cell_type": "code",
   "execution_count": 317,
   "metadata": {},
   "outputs": [],
   "source": [
    "priority_list = rank[rank['mean_abs_error']>0].sort_values(by='mean_abs_error',ascending=False)"
   ]
  },
  {
   "cell_type": "code",
   "execution_count": 318,
   "metadata": {},
   "outputs": [
    {
     "data": {
      "text/html": [
       "<div>\n",
       "<style scoped>\n",
       "    .dataframe tbody tr th:only-of-type {\n",
       "        vertical-align: middle;\n",
       "    }\n",
       "\n",
       "    .dataframe tbody tr th {\n",
       "        vertical-align: top;\n",
       "    }\n",
       "\n",
       "    .dataframe thead th {\n",
       "        text-align: right;\n",
       "    }\n",
       "</style>\n",
       "<table border=\"1\" class=\"dataframe\">\n",
       "  <thead>\n",
       "    <tr style=\"text-align: right;\">\n",
       "      <th></th>\n",
       "      <th>mean_abs_error</th>\n",
       "    </tr>\n",
       "  </thead>\n",
       "  <tbody>\n",
       "    <tr>\n",
       "      <th>(Dicks Sporting Goods, fabric)</th>\n",
       "      <td>8115.436782</td>\n",
       "    </tr>\n",
       "    <tr>\n",
       "      <th>(Dicks Sporting Goods, clothing_features)</th>\n",
       "      <td>6196.436782</td>\n",
       "    </tr>\n",
       "    <tr>\n",
       "      <th>(Dicks Sporting Goods, closure)</th>\n",
       "      <td>4452.436782</td>\n",
       "    </tr>\n",
       "    <tr>\n",
       "      <th>(Dicks Sporting Goods, padding)</th>\n",
       "      <td>2650.436782</td>\n",
       "    </tr>\n",
       "    <tr>\n",
       "      <th>(CVS, concern)</th>\n",
       "      <td>1814.436782</td>\n",
       "    </tr>\n",
       "  </tbody>\n",
       "</table>\n",
       "</div>"
      ],
      "text/plain": [
       "                                           mean_abs_error\n",
       "(Dicks Sporting Goods, fabric)                8115.436782\n",
       "(Dicks Sporting Goods, clothing_features)     6196.436782\n",
       "(Dicks Sporting Goods, closure)               4452.436782\n",
       "(Dicks Sporting Goods, padding)               2650.436782\n",
       "(CVS, concern)                                1814.436782"
      ]
     },
     "execution_count": 318,
     "metadata": {},
     "output_type": "execute_result"
    }
   ],
   "source": [
    "priority_list.head(5)"
   ]
  },
  {
   "cell_type": "code",
   "execution_count": null,
   "metadata": {},
   "outputs": [],
   "source": []
  }
 ],
 "metadata": {
  "kernelspec": {
   "display_name": "Python 3",
   "language": "python",
   "name": "python3"
  },
  "language_info": {
   "codemirror_mode": {
    "name": "ipython",
    "version": 3
   },
   "file_extension": ".py",
   "mimetype": "text/x-python",
   "name": "python",
   "nbconvert_exporter": "python",
   "pygments_lexer": "ipython3",
   "version": "3.5.6"
  }
 },
 "nbformat": 4,
 "nbformat_minor": 2
}
