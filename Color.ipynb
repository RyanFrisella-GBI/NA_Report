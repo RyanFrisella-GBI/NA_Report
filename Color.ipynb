{
 "cells": [
  {
   "cell_type": "markdown",
   "metadata": {},
   "source": [
    "## Pull Queries from Postgres as a CSV file"
   ]
  },
  {
   "cell_type": "code",
   "execution_count": 25,
   "metadata": {},
   "outputs": [],
   "source": [
    "import pandas as pd\n",
    "\n",
    "#Get the previous date\n",
    "from datetime import date, timedelta, datetime\n",
    "\n",
    "#Interacting with Postgres SQL\n",
    "import psycopg2\n",
    "\n",
    "#importing database\n",
    "from database_config import postgres as cfg\n",
    "\n",
    "import time"
   ]
  },
  {
   "cell_type": "markdown",
   "metadata": {},
   "source": [
    "Establishing Connection to Postgres via psycopg2"
   ]
  },
  {
   "cell_type": "code",
   "execution_count": 26,
   "metadata": {},
   "outputs": [],
   "source": [
    "#Setting up the connection to the PostgreSQL -feeddate\n",
    "conn = psycopg2.connect(database=cfg['database'],user=cfg['user'],password=cfg['password'],host=cfg['host'],port=\"5432\")"
   ]
  },
  {
   "cell_type": "code",
   "execution_count": 27,
   "metadata": {},
   "outputs": [],
   "source": [
    "#using datetime to create the date and subtracting 1 day\n",
    "#this works with the last days of the month as well. \n",
    "todays_date = str(datetime.today())[:10]"
   ]
  },
  {
   "cell_type": "raw",
   "metadata": {},
   "source": [
    "customers = pd.read_csv(\"C:/Users/groupby/Documents/Power_BI_csv/20181017 - Customer - ID,Name table.csv\")"
   ]
  },
  {
   "cell_type": "code",
   "execution_count": 28,
   "metadata": {},
   "outputs": [],
   "source": [
    "important_customers = {\n",
    "78:'Paiges',\n",
    "77:'Container Store',\n",
    "75: 'Dicks Sporting Goods',\n",
    "55: 'CVS'\n",
    "}"
   ]
  },
  {
   "cell_type": "markdown",
   "metadata": {},
   "source": [
    "The query below isn't set to be dynamic yet. This can be changed though. "
   ]
  },
  {
   "cell_type": "code",
   "execution_count": 35,
   "metadata": {},
   "outputs": [],
   "source": [
    "color = (\n",
    "\"\"\"SELECT    \n",
    "    ct.id as curation_tasks_id,\n",
    "    ct.customer_id,\n",
    "    ct.product_id,\n",
    "    cpf.name, \n",
    "    ct.resolution,\n",
    "    ct.type,  \n",
    "    date_trunc('day',ct.started_at) as \"started_at\"\n",
    "FROM curation_tasks as ct\n",
    "\n",
    "INNER JOIN curated_product_fields AS cpf\n",
    "ON ct.id = cpf.curation_task_id\n",
    "\n",
    "WHERE started_at >= CURRENT_TIMESTAMP - INTERVAL '4 month'\n",
    "ORDER BY started_at DESC;\n",
    "\"\"\"\n",
    ")"
   ]
  },
  {
   "cell_type": "code",
   "execution_count": 36,
   "metadata": {},
   "outputs": [],
   "source": [
    "color = pd.read_sql(color,conn)"
   ]
  },
  {
   "cell_type": "code",
   "execution_count": 37,
   "metadata": {},
   "outputs": [
    {
     "data": {
      "text/plain": [
       "(1189108, 7)"
      ]
     },
     "execution_count": 37,
     "metadata": {},
     "output_type": "execute_result"
    }
   ],
   "source": [
    "color.shape"
   ]
  },
  {
   "cell_type": "code",
   "execution_count": 56,
   "metadata": {},
   "outputs": [],
   "source": [
    "color.to_csv('./data/attribute_color.csv')"
   ]
  },
  {
   "cell_type": "code",
   "execution_count": 33,
   "metadata": {},
   "outputs": [],
   "source": [
    "if color.shape[0] != 0:\n",
    "    color.to_csv('./data/attribute_color.csv',index=False)"
   ]
  }
 ],
 "metadata": {
  "kernelspec": {
   "display_name": "Python 3",
   "language": "python",
   "name": "python3"
  },
  "language_info": {
   "codemirror_mode": {
    "name": "ipython",
    "version": 3
   },
   "file_extension": ".py",
   "mimetype": "text/x-python",
   "name": "python",
   "nbconvert_exporter": "python",
   "pygments_lexer": "ipython3",
   "version": "3.5.6"
  }
 },
 "nbformat": 4,
 "nbformat_minor": 2
}
